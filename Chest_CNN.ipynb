{
 "cells": [
  {
   "cell_type": "markdown",
   "metadata": {
    "id": "Be5dSwkCDN1y"
   },
   "source": [
    "# Multi-Class Classification of ChestMNIST Dataset with CNN Models¶"
   ]
  },
  {
   "cell_type": "code",
   "execution_count": 2,
   "metadata": {
    "colab": {
     "base_uri": "https://localhost:8080/"
    },
    "id": "9MYu8UNRRj2c",
    "outputId": "5505aa6c-13f2-486b-aca5-1351ef736c42"
   },
   "outputs": [
    {
     "name": "stdout",
     "output_type": "stream",
     "text": [
      "Mounted at /content/drive\n"
     ]
    }
   ],
   "source": [
    "#from google.colab import drive\n",
    "#drive.mount('/content/drive')\n"
   ]
  },
  {
   "cell_type": "markdown",
   "metadata": {
    "id": "UXsC6X-pt2-u"
   },
   "source": [
    "The ChestMNIST dataset from the MedMNIST collection is a multi-label classification dataset derived from the NIH ChestX-ray14 dataset. It comprises 112,120 frontal-view chest X-ray images, each annotated with one or more of 14 disease labels.\n",
    "\n",
    "1. Atelectasis\n",
    "2. Cardiomegaly\n",
    "3. Effusion\n",
    "4. Infiltration\n",
    "5. Mass\n",
    "6. Nodule\n",
    "7. Pneumonia\n",
    "8. Pneumothorax\n",
    "9. Consolidation\n",
    "10. Edema\n",
    "11. Emphysema\n",
    "12. Fibrosis\n",
    "13. Pleural Thickening\n",
    "14. Hernia"
   ]
  },
  {
   "cell_type": "markdown",
   "metadata": {
    "id": "C3zmY7-7DN10"
   },
   "source": [
    "## Import Libraries"
   ]
  },
  {
   "cell_type": "code",
   "execution_count": 21,
   "metadata": {
    "id": "qAspyCs1YjvJ"
   },
   "outputs": [],
   "source": [
    "import os\n",
    "from PIL import Image\n",
    "import numpy as np\n",
    "import matplotlib.pyplot as plt\n",
    "\n",
    "\n",
    "\n"
   ]
  },
  {
   "cell_type": "code",
   "execution_count": 23,
   "metadata": {
    "id": "ngQY6ylf5g2Y"
   },
   "outputs": [],
   "source": [
    "import tensorflow as tf\n",
    "from tensorflow.keras.models import Sequential\n",
    "from tensorflow.keras.layers import Conv2D, MaxPooling2D, Dropout, Flatten, Dense, BatchNormalization\n",
    "from tensorflow.keras.optimizers import Adam\n",
    "from tensorflow.keras.callbacks import EarlyStopping, ModelCheckpoint\n",
    "from tensorflow.keras.layers import BatchNormalization,GlobalAveragePooling2D\n",
    "from tensorflow.keras.metrics import AUC\n"
   ]
  },
  {
   "cell_type": "code",
   "execution_count": 24,
   "metadata": {
    "colab": {
     "base_uri": "https://localhost:8080/"
    },
    "id": "ic7114y7ZJVh",
    "outputId": "c2c7306c-e3be-4859-a7c6-cf0dcf429023"
   },
   "outputs": [
    {
     "name": "stdout",
     "output_type": "stream",
     "text": [
      "['train_images', 'val_images', 'test_images', 'train_labels', 'val_labels', 'test_labels']\n"
     ]
    }
   ],
   "source": [
    "#data = np.load('/content/drive/MyDrive/mnist_medical_images/chestmnist.npz')\n",
    "data = np.load('/data/chestmnist.npz')\n",
    "print(data.files)  # shows stored arrays like ['images', 'labels']"
   ]
  },
  {
   "cell_type": "code",
   "execution_count": 25,
   "metadata": {
    "id": "V5mVPNOYeXGC"
   },
   "outputs": [],
   "source": [
    "# Extract arrays\n",
    "x_train = data['train_images']\n",
    "y_train = data['train_labels']\n",
    "x_val   = data['val_images']\n",
    "y_val   = data['val_labels']\n",
    "x_test  = data['test_images']\n",
    "y_test  = data['test_labels']"
   ]
  },
  {
   "cell_type": "markdown",
   "metadata": {
    "id": "k4dpe-wODN11"
   },
   "source": [
    "## Analyze Dataset"
   ]
  },
  {
   "cell_type": "code",
   "execution_count": 26,
   "metadata": {
    "colab": {
     "base_uri": "https://localhost:8080/"
    },
    "id": "YXeFqfiBea4H",
    "outputId": "ccbe6583-4811-474d-8e35-554b616468a1"
   },
   "outputs": [
    {
     "name": "stdout",
     "output_type": "stream",
     "text": [
      "Train: (78468, 28, 28) (78468, 14)\n",
      "Val:   (11219, 28, 28) (11219, 14)\n",
      "Test:  (22433, 28, 28) (22433, 14)\n"
     ]
    }
   ],
   "source": [
    "# check shapes\n",
    "print(\"Train:\", x_train.shape, y_train.shape)\n",
    "print(\"Val:  \", x_val.shape, y_val.shape)\n",
    "print(\"Test: \", x_test.shape, y_test.shape)"
   ]
  },
  {
   "cell_type": "code",
   "execution_count": 27,
   "metadata": {
    "id": "K5Hw0ttbtR03"
   },
   "outputs": [],
   "source": [
    "disease_labels = [\n",
    "    \"Atelectasis\", \"Cardiomegaly\", \"Effusion\", \"Infiltration\", \"Mass\",\n",
    "    \"Nodule\", \"Pneumonia\", \"Pneumothorax\", \"Consolidation\", \"Edema\",\n",
    "    \"Emphysema\", \"Fibrosis\", \"Pleural Thickening\", \"Hernia\"\n",
    "]\n"
   ]
  },
  {
   "cell_type": "code",
   "execution_count": 28,
   "metadata": {
    "colab": {
     "base_uri": "https://localhost:8080/"
    },
    "id": "RUwJbOGLtOgZ",
    "outputId": "0690c741-c9cb-493b-fd16-1f97b3198c8f"
   },
   "outputs": [
    {
     "name": "stdout",
     "output_type": "stream",
     "text": [
      "Atelectasis: 11535 samples\n",
      "Cardiomegaly: 2772 samples\n",
      "Effusion: 13307 samples\n",
      "Infiltration: 19870 samples\n",
      "Mass: 5746 samples\n",
      "Nodule: 6323 samples\n",
      "Pneumonia: 1353 samples\n",
      "Pneumothorax: 5298 samples\n",
      "Consolidation: 4667 samples\n",
      "Edema: 2303 samples\n",
      "Emphysema: 2516 samples\n",
      "Fibrosis: 1686 samples\n",
      "Pleural Thickening: 3385 samples\n",
      "Hernia: 227 samples\n"
     ]
    }
   ],
   "source": [
    "label_counts = np.sum(np.concatenate([y_train, y_val, y_test]), axis=0)\n",
    "\n",
    "for i, count in enumerate(label_counts):\n",
    "    print(f\"{disease_labels[i]}: {int(count)} samples\")\n"
   ]
  },
  {
   "cell_type": "code",
   "execution_count": 29,
   "metadata": {
    "id": "pdMvTqU8rXh1"
   },
   "outputs": [],
   "source": [
    "# Create a mapping for labels\n",
    "label_map = {\n",
    "    0: 'Atelectasis',\n",
    "    1: 'Cardiomegaly',\n",
    "    2: 'Effusion',\n",
    "    3: 'Infiltration',\n",
    "    4: 'Mass',\n",
    "    5: 'Nodule',\n",
    "    6: 'Pneumonia',\n",
    "    7: 'Pneumothorax',\n",
    "    8: 'Consolidation',\n",
    "    9: 'Edema',\n",
    "    10: 'Emphysema',\n",
    "    11: 'Fibrosis',\n",
    "    12: 'Pleural Thickening',\n",
    "    13: 'Hernia'\n",
    "\n",
    "}\n"
   ]
  },
  {
   "cell_type": "code",
   "execution_count": 30,
   "metadata": {
    "colab": {
     "base_uri": "https://localhost:8080/",
     "height": 1000
    },
    "id": "cOl_Ffjbuf88",
    "outputId": "9eb31243-10db-43f4-e70e-dc771e60021d"
   },
   "outputs": [
    {
     "data": {
      "image/png": "[encoded data removed]",
      "text/plain": [
       "<Figure size 1200x1000 with 15 Axes>"
      ]
     },
     "metadata": {},
     "output_type": "display_data"
    }
   ],
   "source": [
    "# Visualize a Grid of Sample Images per Label\n",
    "\n",
    "\n",
    "# Number of images to show\n",
    "num_images = 15\n",
    "rows, cols = 5, 3\n",
    "\n",
    "# Set up grid\n",
    "fig, axes = plt.subplots(rows, cols, figsize=(12, 10))\n",
    "\n",
    "# Plot each image with labels\n",
    "for idx in range(num_images):\n",
    "    ax = axes[idx // cols, idx % cols]\n",
    "    img = x_train[idx]\n",
    "    labels = y_train[idx]\n",
    "\n",
    "    # Convert one-hot vector to label names using label_map\n",
    "    label_names = [label_map[i] for i in range(len(labels)) if labels[i] == 1]\n",
    "    title = \", \".join(label_names) if label_names else \"No Finding\" # when no disease labels marked\n",
    "\n",
    "    ax.imshow(img.squeeze(), cmap='gray')\n",
    "    ax.set_title(title, fontsize=8)\n",
    "    ax.axis('off')\n",
    "\n",
    "plt.tight_layout()\n",
    "plt.show()\n"
   ]
  },
  {
   "cell_type": "code",
   "execution_count": 31,
   "metadata": {
    "id": "Gi_UnP5Xm3XZ"
   },
   "outputs": [],
   "source": [
    "# Normalize data\n",
    "x_train = x_train.astype('float32') / 255.0\n",
    "x_val = x_val.astype('float32') / 255.0\n",
    "x_test = x_test.astype('float32') / 255.0"
   ]
  },
  {
   "cell_type": "code",
   "execution_count": 32,
   "metadata": {
    "colab": {
     "base_uri": "https://localhost:8080/",
     "height": 507
    },
    "id": "nFXgxowUm3ha",
    "outputId": "51a95f50-313f-4cf9-e721-65a137f87ed6"
   },
   "outputs": [
    {
     "data": {
      "image/png": "[encoded data removed]",
      "text/plain": [
       "<Figure size 1400x500 with 1 Axes>"
      ]
     },
     "metadata": {},
     "output_type": "display_data"
    }
   ],
   "source": [
    "# Count occurrences of each class\n",
    "class_names = ['Atelectasis', 'Cardiomegaly', 'Effusion', 'Infiltration', 'Mass', 'Nodule', 'Pneumonia', 'Pneumothorax',\n",
    "               'Consolidation', 'Edema', 'Emphysema', 'Fibrosis', 'Pleural Thickening', 'Hernia' ]\n",
    "\n",
    "# Count how many times each class appears across all samples\n",
    "counts = np.sum(y_train, axis=0)\n",
    "\n",
    "# Plot bar chart\n",
    "plt.figure(figsize=(14, 5))\n",
    "plt.bar(class_names, counts, color='skyblue')\n",
    "plt.title(\"Class Distribution in ChestMNIST (Train Set)\")\n",
    "plt.xlabel(\"Class\")\n",
    "plt.ylabel(\"Sample Count\")\n",
    "plt.xticks(rotation=15)\n",
    "plt.tight_layout()\n",
    "plt.show()"
   ]
  },
  {
   "cell_type": "markdown",
   "metadata": {
    "id": "O_bMsZhGU45h"
   },
   "source": [
    "**Class Distribution**\n",
    "\n",
    "Uneven imbalanced class distribution.\n",
    "\n",
    "Many samples have no condition at all (i.e., all 0)\n",
    "\n",
    "A significant number of samples might be labeled with multiple conditions."
   ]
  },
  {
   "cell_type": "markdown",
   "metadata": {
    "id": "tix2Zf-HWsAa"
   },
   "source": [
    "**Samples with No Condition vs Condition Present**"
   ]
  },
  {
   "cell_type": "code",
   "execution_count": 33,
   "metadata": {
    "colab": {
     "base_uri": "https://localhost:8080/",
     "height": 442
    },
    "id": "SRmjzpoom3lJ",
    "outputId": "94036930-e622-43e1-90b4-6a74a3000aac"
   },
   "outputs": [
    {
     "data": {
      "image/png": "[encoded data removed]",
      "text/plain": [
       "<Figure size 500x400 with 1 Axes>"
      ]
     },
     "metadata": {},
     "output_type": "display_data"
    },
    {
     "name": "stdout",
     "output_type": "stream",
     "text": [
      "No of samples with condition present: 36063\n",
      "No of samples with no condition: 42405\n"
     ]
    }
   ],
   "source": [
    "\n",
    "\n",
    "# y_train: shape (n_samples, 14), each row is a binary vector of labels\n",
    "condition_present = np.sum(np.any(y_train == 1, axis=1))\n",
    "no_condition = np.sum(np.all(y_train == 0, axis=1))\n",
    "\n",
    "# Plot\n",
    "plt.figure(figsize=(5, 4))\n",
    "plt.bar(['No Condition', 'Condition Present'], [no_condition, condition_present], color=['gray', 'skyblue'])\n",
    "plt.title(\"Presence of Any Condition in ChestMNIST (Train Set)\")\n",
    "plt.ylabel(\"Sample Count\")\n",
    "plt.tight_layout()\n",
    "plt.show()\n",
    "\n",
    "print(f'No of samples with condition present: {condition_present}')\n",
    "print(f'No of samples with no condition: {no_condition}')"
   ]
  },
  {
   "cell_type": "markdown",
   "metadata": {
    "id": "JAmakzZg35Jg"
   },
   "source": [
    "# **1. Simple CNN Model**"
   ]
  },
  {
   "cell_type": "markdown",
   "metadata": {
    "id": "URYB6XNx4G45"
   },
   "source": [
    "- Input: 28×28 grayscale images\n",
    "\n",
    "- Output: 14 sigmoid-activated neurons\n",
    "\n",
    "- Loss Function: binary_crossentropy (since  multi-label)\n",
    "\n",
    "- Evaluation Metrics: AUC, F1-score, accuracy, etc."
   ]
  },
  {
   "cell_type": "code",
   "execution_count": 34,
   "metadata": {
    "id": "pMP1wLG_5oBl"
   },
   "outputs": [],
   "source": [
    "# Input shape for ChestMNIST\n",
    "input_shape = (28, 28, 1)\n",
    "num_classes = 14\n",
    "\n",
    "# CNN model\n",
    "model = Sequential([\n",
    "    Conv2D(32, (3, 3), activation='relu', input_shape=input_shape),\n",
    "    BatchNormalization(),\n",
    "    MaxPooling2D(pool_size=(2, 2)),\n",
    "    Dropout(0.2),\n",
    "\n",
    "    Conv2D(64, (3, 3), activation='relu'),\n",
    "    BatchNormalization(),\n",
    "    MaxPooling2D(pool_size=(2, 2)),\n",
    "    Dropout(0.3),\n",
    "\n",
    "    Flatten(),\n",
    "    Dense(128, activation='relu'),\n",
    "    Dropout(0.4),\n",
    "    Dense(num_classes, activation='sigmoid')  # Multi-label output\n",
    "])\n",
    "\n",
    "# Compile the model\n",
    "model.compile(\n",
    "    loss='binary_crossentropy',\n",
    "    optimizer=Adam(learning_rate=0.001),\n",
    "    metrics=[tf.keras.metrics.AUC(name='auc'), 'accuracy']\n",
    ")"
   ]
  },
  {
   "cell_type": "code",
   "execution_count": 35,
   "metadata": {
    "colab": {
     "base_uri": "https://localhost:8080/",
     "height": 549
    },
    "id": "jpukoVao5qXf",
    "outputId": "aaa2003a-d32f-4b53-a77c-b416f636b780"
   },
   "outputs": [
    {
     "data": {
      "text/html": [
       "<pre style=\"white-space:pre;overflow-x:auto;line-height:normal;font-family:Menlo,'DejaVu Sans Mono',consolas,'Courier New',monospace\"><span style=\"font-weight: bold\">Model: \"sequential_1\"</span>\n",
       "</pre>\n"
      ],
      "text/plain": [
       "\u001b[1mModel: \"sequential_1\"\u001b[0m\n"
      ]
     },
     "metadata": {},
     "output_type": "display_data"
    },
    {
     "data": {
      "text/html": [
       "<pre style=\"white-space:pre;overflow-x:auto;line-height:normal;font-family:Menlo,'DejaVu Sans Mono',consolas,'Courier New',monospace\">┏━━━━━━━━━━━━━━━━━━━━━━━━━━━━━━━━━┳━━━━━━━━━━━━━━━━━━━━━━━━┳━━━━━━━━━━━━━━━┓\n",
       "┃<span style=\"font-weight: bold\"> Layer (type)                    </span>┃<span style=\"font-weight: bold\"> Output Shape           </span>┃<span style=\"font-weight: bold\">       Param # </span>┃\n",
       "┡━━━━━━━━━━━━━━━━━━━━━━━━━━━━━━━━━╇━━━━━━━━━━━━━━━━━━━━━━━━╇━━━━━━━━━━━━━━━┩\n",
       "│ conv2d_6 (<span style=\"color: #0087ff; text-decoration-color: #0087ff\">Conv2D</span>)               │ (<span style=\"color: #00d7ff; text-decoration-color: #00d7ff\">None</span>, <span style=\"color: #00af00; text-decoration-color: #00af00\">26</span>, <span style=\"color: #00af00; text-decoration-color: #00af00\">26</span>, <span style=\"color: #00af00; text-decoration-color: #00af00\">32</span>)     │           <span style=\"color: #00af00; text-decoration-color: #00af00\">320</span> │\n",
       "├─────────────────────────────────┼────────────────────────┼───────────────┤\n",
       "│ batch_normalization_6           │ (<span style=\"color: #00d7ff; text-decoration-color: #00d7ff\">None</span>, <span style=\"color: #00af00; text-decoration-color: #00af00\">26</span>, <span style=\"color: #00af00; text-decoration-color: #00af00\">26</span>, <span style=\"color: #00af00; text-decoration-color: #00af00\">32</span>)     │           <span style=\"color: #00af00; text-decoration-color: #00af00\">128</span> │\n",
       "│ (<span style=\"color: #0087ff; text-decoration-color: #0087ff\">BatchNormalization</span>)            │                        │               │\n",
       "├─────────────────────────────────┼────────────────────────┼───────────────┤\n",
       "│ max_pooling2d_3 (<span style=\"color: #0087ff; text-decoration-color: #0087ff\">MaxPooling2D</span>)  │ (<span style=\"color: #00d7ff; text-decoration-color: #00d7ff\">None</span>, <span style=\"color: #00af00; text-decoration-color: #00af00\">13</span>, <span style=\"color: #00af00; text-decoration-color: #00af00\">13</span>, <span style=\"color: #00af00; text-decoration-color: #00af00\">32</span>)     │             <span style=\"color: #00af00; text-decoration-color: #00af00\">0</span> │\n",
       "├─────────────────────────────────┼────────────────────────┼───────────────┤\n",
       "│ dropout_4 (<span style=\"color: #0087ff; text-decoration-color: #0087ff\">Dropout</span>)             │ (<span style=\"color: #00d7ff; text-decoration-color: #00d7ff\">None</span>, <span style=\"color: #00af00; text-decoration-color: #00af00\">13</span>, <span style=\"color: #00af00; text-decoration-color: #00af00\">13</span>, <span style=\"color: #00af00; text-decoration-color: #00af00\">32</span>)     │             <span style=\"color: #00af00; text-decoration-color: #00af00\">0</span> │\n",
       "├─────────────────────────────────┼────────────────────────┼───────────────┤\n",
       "│ conv2d_7 (<span style=\"color: #0087ff; text-decoration-color: #0087ff\">Conv2D</span>)               │ (<span style=\"color: #00d7ff; text-decoration-color: #00d7ff\">None</span>, <span style=\"color: #00af00; text-decoration-color: #00af00\">11</span>, <span style=\"color: #00af00; text-decoration-color: #00af00\">11</span>, <span style=\"color: #00af00; text-decoration-color: #00af00\">64</span>)     │        <span style=\"color: #00af00; text-decoration-color: #00af00\">18,496</span> │\n",
       "├─────────────────────────────────┼────────────────────────┼───────────────┤\n",
       "│ batch_normalization_7           │ (<span style=\"color: #00d7ff; text-decoration-color: #00d7ff\">None</span>, <span style=\"color: #00af00; text-decoration-color: #00af00\">11</span>, <span style=\"color: #00af00; text-decoration-color: #00af00\">11</span>, <span style=\"color: #00af00; text-decoration-color: #00af00\">64</span>)     │           <span style=\"color: #00af00; text-decoration-color: #00af00\">256</span> │\n",
       "│ (<span style=\"color: #0087ff; text-decoration-color: #0087ff\">BatchNormalization</span>)            │                        │               │\n",
       "├─────────────────────────────────┼────────────────────────┼───────────────┤\n",
       "│ max_pooling2d_4 (<span style=\"color: #0087ff; text-decoration-color: #0087ff\">MaxPooling2D</span>)  │ (<span style=\"color: #00d7ff; text-decoration-color: #00d7ff\">None</span>, <span style=\"color: #00af00; text-decoration-color: #00af00\">5</span>, <span style=\"color: #00af00; text-decoration-color: #00af00\">5</span>, <span style=\"color: #00af00; text-decoration-color: #00af00\">64</span>)       │             <span style=\"color: #00af00; text-decoration-color: #00af00\">0</span> │\n",
       "├─────────────────────────────────┼────────────────────────┼───────────────┤\n",
       "│ dropout_5 (<span style=\"color: #0087ff; text-decoration-color: #0087ff\">Dropout</span>)             │ (<span style=\"color: #00d7ff; text-decoration-color: #00d7ff\">None</span>, <span style=\"color: #00af00; text-decoration-color: #00af00\">5</span>, <span style=\"color: #00af00; text-decoration-color: #00af00\">5</span>, <span style=\"color: #00af00; text-decoration-color: #00af00\">64</span>)       │             <span style=\"color: #00af00; text-decoration-color: #00af00\">0</span> │\n",
       "├─────────────────────────────────┼────────────────────────┼───────────────┤\n",
       "│ flatten (<span style=\"color: #0087ff; text-decoration-color: #0087ff\">Flatten</span>)               │ (<span style=\"color: #00d7ff; text-decoration-color: #00d7ff\">None</span>, <span style=\"color: #00af00; text-decoration-color: #00af00\">1600</span>)           │             <span style=\"color: #00af00; text-decoration-color: #00af00\">0</span> │\n",
       "├─────────────────────────────────┼────────────────────────┼───────────────┤\n",
       "│ dense_2 (<span style=\"color: #0087ff; text-decoration-color: #0087ff\">Dense</span>)                 │ (<span style=\"color: #00d7ff; text-decoration-color: #00d7ff\">None</span>, <span style=\"color: #00af00; text-decoration-color: #00af00\">128</span>)            │       <span style=\"color: #00af00; text-decoration-color: #00af00\">204,928</span> │\n",
       "├─────────────────────────────────┼────────────────────────┼───────────────┤\n",
       "│ dropout_6 (<span style=\"color: #0087ff; text-decoration-color: #0087ff\">Dropout</span>)             │ (<span style=\"color: #00d7ff; text-decoration-color: #00d7ff\">None</span>, <span style=\"color: #00af00; text-decoration-color: #00af00\">128</span>)            │             <span style=\"color: #00af00; text-decoration-color: #00af00\">0</span> │\n",
       "├─────────────────────────────────┼────────────────────────┼───────────────┤\n",
       "│ dense_3 (<span style=\"color: #0087ff; text-decoration-color: #0087ff\">Dense</span>)                 │ (<span style=\"color: #00d7ff; text-decoration-color: #00d7ff\">None</span>, <span style=\"color: #00af00; text-decoration-color: #00af00\">14</span>)             │         <span style=\"color: #00af00; text-decoration-color: #00af00\">1,806</span> │\n",
       "└─────────────────────────────────┴────────────────────────┴───────────────┘\n",
       "</pre>\n"
      ],
      "text/plain": [
       "┏━━━━━━━━━━━━━━━━━━━━━━━━━━━━━━━━━┳━━━━━━━━━━━━━━━━━━━━━━━━┳━━━━━━━━━━━━━━━┓\n",
       "┃\u001b[1m \u001b[0m\u001b[1mLayer (type)                   \u001b[0m\u001b[1m \u001b[0m┃\u001b[1m \u001b[0m\u001b[1mOutput Shape          \u001b[0m\u001b[1m \u001b[0m┃\u001b[1m \u001b[0m\u001b[1m      Param #\u001b[0m\u001b[1m \u001b[0m┃\n",
       "┡━━━━━━━━━━━━━━━━━━━━━━━━━━━━━━━━━╇━━━━━━━━━━━━━━━━━━━━━━━━╇━━━━━━━━━━━━━━━┩\n",
       "│ conv2d_6 (\u001b[38;5;33mConv2D\u001b[0m)               │ (\u001b[38;5;45mNone\u001b[0m, \u001b[38;5;34m26\u001b[0m, \u001b[38;5;34m26\u001b[0m, \u001b[38;5;34m32\u001b[0m)     │           \u001b[38;5;34m320\u001b[0m │\n",
       "├─────────────────────────────────┼────────────────────────┼───────────────┤\n",
       "│ batch_normalization_6           │ (\u001b[38;5;45mNone\u001b[0m, \u001b[38;5;34m26\u001b[0m, \u001b[38;5;34m26\u001b[0m, \u001b[38;5;34m32\u001b[0m)     │           \u001b[38;5;34m128\u001b[0m │\n",
       "│ (\u001b[38;5;33mBatchNormalization\u001b[0m)            │                        │               │\n",
       "├─────────────────────────────────┼────────────────────────┼───────────────┤\n",
       "│ max_pooling2d_3 (\u001b[38;5;33mMaxPooling2D\u001b[0m)  │ (\u001b[38;5;45mNone\u001b[0m, \u001b[38;5;34m13\u001b[0m, \u001b[38;5;34m13\u001b[0m, \u001b[38;5;34m32\u001b[0m)     │             \u001b[38;5;34m0\u001b[0m │\n",
       "├─────────────────────────────────┼────────────────────────┼───────────────┤\n",
       "│ dropout_4 (\u001b[38;5;33mDropout\u001b[0m)             │ (\u001b[38;5;45mNone\u001b[0m, \u001b[38;5;34m13\u001b[0m, \u001b[38;5;34m13\u001b[0m, \u001b[38;5;34m32\u001b[0m)     │             \u001b[38;5;34m0\u001b[0m │\n",
       "├─────────────────────────────────┼────────────────────────┼───────────────┤\n",
       "│ conv2d_7 (\u001b[38;5;33mConv2D\u001b[0m)               │ (\u001b[38;5;45mNone\u001b[0m, \u001b[38;5;34m11\u001b[0m, \u001b[38;5;34m11\u001b[0m, \u001b[38;5;34m64\u001b[0m)     │        \u001b[38;5;34m18,496\u001b[0m │\n",
       "├─────────────────────────────────┼────────────────────────┼───────────────┤\n",
       "│ batch_normalization_7           │ (\u001b[38;5;45mNone\u001b[0m, \u001b[38;5;34m11\u001b[0m, \u001b[38;5;34m11\u001b[0m, \u001b[38;5;34m64\u001b[0m)     │           \u001b[38;5;34m256\u001b[0m │\n",
       "│ (\u001b[38;5;33mBatchNormalization\u001b[0m)            │                        │               │\n",
       "├─────────────────────────────────┼────────────────────────┼───────────────┤\n",
       "│ max_pooling2d_4 (\u001b[38;5;33mMaxPooling2D\u001b[0m)  │ (\u001b[38;5;45mNone\u001b[0m, \u001b[38;5;34m5\u001b[0m, \u001b[38;5;34m5\u001b[0m, \u001b[38;5;34m64\u001b[0m)       │             \u001b[38;5;34m0\u001b[0m │\n",
       "├─────────────────────────────────┼────────────────────────┼───────────────┤\n",
       "│ dropout_5 (\u001b[38;5;33mDropout\u001b[0m)             │ (\u001b[38;5;45mNone\u001b[0m, \u001b[38;5;34m5\u001b[0m, \u001b[38;5;34m5\u001b[0m, \u001b[38;5;34m64\u001b[0m)       │             \u001b[38;5;34m0\u001b[0m │\n",
       "├─────────────────────────────────┼────────────────────────┼───────────────┤\n",
       "│ flatten (\u001b[38;5;33mFlatten\u001b[0m)               │ (\u001b[38;5;45mNone\u001b[0m, \u001b[38;5;34m1600\u001b[0m)           │             \u001b[38;5;34m0\u001b[0m │\n",
       "├─────────────────────────────────┼────────────────────────┼───────────────┤\n",
       "│ dense_2 (\u001b[38;5;33mDense\u001b[0m)                 │ (\u001b[38;5;45mNone\u001b[0m, \u001b[38;5;34m128\u001b[0m)            │       \u001b[38;5;34m204,928\u001b[0m │\n",
       "├─────────────────────────────────┼────────────────────────┼───────────────┤\n",
       "│ dropout_6 (\u001b[38;5;33mDropout\u001b[0m)             │ (\u001b[38;5;45mNone\u001b[0m, \u001b[38;5;34m128\u001b[0m)            │             \u001b[38;5;34m0\u001b[0m │\n",
       "├─────────────────────────────────┼────────────────────────┼───────────────┤\n",
       "│ dense_3 (\u001b[38;5;33mDense\u001b[0m)                 │ (\u001b[38;5;45mNone\u001b[0m, \u001b[38;5;34m14\u001b[0m)             │         \u001b[38;5;34m1,806\u001b[0m │\n",
       "└─────────────────────────────────┴────────────────────────┴───────────────┘\n"
      ]
     },
     "metadata": {},
     "output_type": "display_data"
    },
    {
     "data": {
      "text/html": [
       "<pre style=\"white-space:pre;overflow-x:auto;line-height:normal;font-family:Menlo,'DejaVu Sans Mono',consolas,'Courier New',monospace\"><span style=\"font-weight: bold\"> Total params: </span><span style=\"color: #00af00; text-decoration-color: #00af00\">225,934</span> (882.55 KB)\n",
       "</pre>\n"
      ],
      "text/plain": [
       "\u001b[1m Total params: \u001b[0m\u001b[38;5;34m225,934\u001b[0m (882.55 KB)\n"
      ]
     },
     "metadata": {},
     "output_type": "display_data"
    },
    {
     "data": {
      "text/html": [
       "<pre style=\"white-space:pre;overflow-x:auto;line-height:normal;font-family:Menlo,'DejaVu Sans Mono',consolas,'Courier New',monospace\"><span style=\"font-weight: bold\"> Trainable params: </span><span style=\"color: #00af00; text-decoration-color: #00af00\">225,742</span> (881.80 KB)\n",
       "</pre>\n"
      ],
      "text/plain": [
       "\u001b[1m Trainable params: \u001b[0m\u001b[38;5;34m225,742\u001b[0m (881.80 KB)\n"
      ]
     },
     "metadata": {},
     "output_type": "display_data"
    },
    {
     "data": {
      "text/html": [
       "<pre style=\"white-space:pre;overflow-x:auto;line-height:normal;font-family:Menlo,'DejaVu Sans Mono',consolas,'Courier New',monospace\"><span style=\"font-weight: bold\"> Non-trainable params: </span><span style=\"color: #00af00; text-decoration-color: #00af00\">192</span> (768.00 B)\n",
       "</pre>\n"
      ],
      "text/plain": [
       "\u001b[1m Non-trainable params: \u001b[0m\u001b[38;5;34m192\u001b[0m (768.00 B)\n"
      ]
     },
     "metadata": {},
     "output_type": "display_data"
    }
   ],
   "source": [
    "# Summary\n",
    "model.summary()"
   ]
  },
  {
   "cell_type": "code",
   "execution_count": null,
   "metadata": {
    "id": "t2uXrDVKqcFa"
   },
   "outputs": [],
   "source": [
    "\n",
    "\n",
    "# Create a directory to save model checkpoints\n",
    "os.makedirs(\"/content/drive/MyDrive/mnist_medical_images/custom_cnn1_chest_checkpoints\", exist_ok=True)\n",
    "\n",
    "# Define checkpoint path\n",
    "checkpoint_path = \"/content/drive/MyDrive/mnist_medical_images/custom_cnn1_chest_checkpoints/best_model.keras\"\n",
    "\n",
    "# Callbacks\n",
    "callbacks = [\n",
    "    EarlyStopping(\n",
    "        monitor='val_auc',\n",
    "        mode='max',\n",
    "        patience=5,\n",
    "        restore_best_weights=True,\n",
    "        verbose=1\n",
    "    ),\n",
    "    ModelCheckpoint(\n",
    "        filepath=checkpoint_path,\n",
    "        monitor='val_auc',\n",
    "        mode='max',\n",
    "        save_best_only=True,\n",
    "        verbose=1\n",
    "    )\n",
    "]\n"
   ]
  },
  {
   "cell_type": "markdown",
   "metadata": {
    "id": "UFb-7ivbDN13"
   },
   "source": [
    "## Training"
   ]
  },
  {
   "cell_type": "code",
   "execution_count": null,
   "metadata": {
    "colab": {
     "base_uri": "https://localhost:8080/"
    },
    "id": "5mb2WnXQrwX8",
    "outputId": "9e3e3266-5764-4cf8-d5ea-dc93dfa91e1e"
   },
   "outputs": [
    {
     "name": "stdout",
     "output_type": "stream",
     "text": [
      "Epoch 1/20\n",
      "\u001b[1m2452/2453\u001b[0m \u001b[32m━━━━━━━━━━━━━━━━━━━\u001b[0m\u001b[37m━\u001b[0m \u001b[1m0s\u001b[0m 44ms/step - accuracy: 0.1733 - auc: 0.7091 - loss: 0.2113\n",
      "Epoch 1: val_auc improved from -inf to 0.79585, saving model to /content/drive/MyDrive/mnist_medical_images/custom_cnn1_chest_checkpoints/best_model.keras\n",
      "\u001b[1m2453/2453\u001b[0m \u001b[32m━━━━━━━━━━━━━━━━━━━━\u001b[0m\u001b[37m\u001b[0m \u001b[1m116s\u001b[0m 46ms/step - accuracy: 0.1733 - auc: 0.7091 - loss: 0.2113 - val_accuracy: 0.1289 - val_auc: 0.7958 - val_loss: 0.1712\n",
      "Epoch 2/20\n",
      "\u001b[1m2453/2453\u001b[0m \u001b[32m━━━━━━━━━━━━━━━━━━━━\u001b[0m\u001b[37m\u001b[0m \u001b[1m0s\u001b[0m 44ms/step - accuracy: 0.1606 - auc: 0.7633 - loss: 0.1811\n",
      "Epoch 2: val_auc did not improve from 0.79585\n",
      "\u001b[1m2453/2453\u001b[0m \u001b[32m━━━━━━━━━━━━━━━━━━━━\u001b[0m\u001b[37m\u001b[0m \u001b[1m141s\u001b[0m 45ms/step - accuracy: 0.1606 - auc: 0.7633 - loss: 0.1811 - val_accuracy: 0.1365 - val_auc: 0.7864 - val_loss: 0.1727\n",
      "Epoch 3/20\n",
      "\u001b[1m2451/2453\u001b[0m \u001b[32m━━━━━━━━━━━━━━━━━━━\u001b[0m\u001b[37m━\u001b[0m \u001b[1m0s\u001b[0m 44ms/step - accuracy: 0.1660 - auc: 0.7698 - loss: 0.1788\n",
      "Epoch 3: val_auc improved from 0.79585 to 0.80336, saving model to /content/drive/MyDrive/mnist_medical_images/custom_cnn1_chest_checkpoints/best_model.keras\n",
      "\u001b[1m2453/2453\u001b[0m \u001b[32m━━━━━━━━━━━━━━━━━━━━\u001b[0m\u001b[37m\u001b[0m \u001b[1m141s\u001b[0m 45ms/step - accuracy: 0.1660 - auc: 0.7698 - loss: 0.1788 - val_accuracy: 0.1554 - val_auc: 0.8034 - val_loss: 0.1698\n",
      "Epoch 4/20\n",
      "\u001b[1m2451/2453\u001b[0m \u001b[32m━━━━━━━━━━━━━━━━━━━\u001b[0m\u001b[37m━\u001b[0m \u001b[1m0s\u001b[0m 42ms/step - accuracy: 0.1841 - auc: 0.7816 - loss: 0.1758\n",
      "Epoch 4: val_auc improved from 0.80336 to 0.80654, saving model to /content/drive/MyDrive/mnist_medical_images/custom_cnn1_chest_checkpoints/best_model.keras\n",
      "\u001b[1m2453/2453\u001b[0m \u001b[32m━━━━━━━━━━━━━━━━━━━━\u001b[0m\u001b[37m\u001b[0m \u001b[1m108s\u001b[0m 44ms/step - accuracy: 0.1841 - auc: 0.7816 - loss: 0.1758 - val_accuracy: 0.2252 - val_auc: 0.8065 - val_loss: 0.1689\n",
      "Epoch 5/20\n",
      "\u001b[1m2452/2453\u001b[0m \u001b[32m━━━━━━━━━━━━━━━━━━━\u001b[0m\u001b[37m━\u001b[0m \u001b[1m0s\u001b[0m 44ms/step - accuracy: 0.1869 - auc: 0.7876 - loss: 0.1732\n",
      "Epoch 5: val_auc improved from 0.80654 to 0.81107, saving model to /content/drive/MyDrive/mnist_medical_images/custom_cnn1_chest_checkpoints/best_model.keras\n",
      "\u001b[1m2453/2453\u001b[0m \u001b[32m━━━━━━━━━━━━━━━━━━━━\u001b[0m\u001b[37m\u001b[0m \u001b[1m146s\u001b[0m 46ms/step - accuracy: 0.1869 - auc: 0.7876 - loss: 0.1732 - val_accuracy: 0.1521 - val_auc: 0.8111 - val_loss: 0.1679\n",
      "Epoch 6/20\n",
      "\u001b[1m2452/2453\u001b[0m \u001b[32m━━━━━━━━━━━━━━━━━━━\u001b[0m\u001b[37m━\u001b[0m \u001b[1m0s\u001b[0m 43ms/step - accuracy: 0.1844 - auc: 0.7942 - loss: 0.1725\n",
      "Epoch 6: val_auc improved from 0.81107 to 0.81491, saving model to /content/drive/MyDrive/mnist_medical_images/custom_cnn1_chest_checkpoints/best_model.keras\n",
      "\u001b[1m2453/2453\u001b[0m \u001b[32m━━━━━━━━━━━━━━━━━━━━\u001b[0m\u001b[37m\u001b[0m \u001b[1m141s\u001b[0m 45ms/step - accuracy: 0.1844 - auc: 0.7942 - loss: 0.1725 - val_accuracy: 0.1778 - val_auc: 0.8149 - val_loss: 0.1666\n",
      "Epoch 7/20\n",
      "\u001b[1m2452/2453\u001b[0m \u001b[32m━━━━━━━━━━━━━━━━━━━\u001b[0m\u001b[37m━\u001b[0m \u001b[1m0s\u001b[0m 44ms/step - accuracy: 0.1871 - auc: 0.7999 - loss: 0.1710\n",
      "Epoch 7: val_auc did not improve from 0.81491\n",
      "\u001b[1m2453/2453\u001b[0m \u001b[32m━━━━━━━━━━━━━━━━━━━━\u001b[0m\u001b[37m\u001b[0m \u001b[1m144s\u001b[0m 46ms/step - accuracy: 0.1871 - auc: 0.7999 - loss: 0.1710 - val_accuracy: 0.2284 - val_auc: 0.7983 - val_loss: 0.1727\n",
      "Epoch 8/20\n",
      "\u001b[1m2452/2453\u001b[0m \u001b[32m━━━━━━━━━━━━━━━━━━━\u001b[0m\u001b[37m━\u001b[0m \u001b[1m0s\u001b[0m 44ms/step - accuracy: 0.1918 - auc: 0.8031 - loss: 0.1702\n",
      "Epoch 8: val_auc did not improve from 0.81491\n",
      "\u001b[1m2453/2453\u001b[0m \u001b[32m━━━━━━━━━━━━━━━━━━━━\u001b[0m\u001b[37m\u001b[0m \u001b[1m113s\u001b[0m 46ms/step - accuracy: 0.1918 - auc: 0.8031 - loss: 0.1702 - val_accuracy: 0.2589 - val_auc: 0.8095 - val_loss: 0.1705\n",
      "Epoch 9/20\n",
      "\u001b[1m2452/2453\u001b[0m \u001b[32m━━━━━━━━━━━━━━━━━━━\u001b[0m\u001b[37m━\u001b[0m \u001b[1m0s\u001b[0m 43ms/step - accuracy: 0.1918 - auc: 0.8063 - loss: 0.1692\n",
      "Epoch 9: val_auc improved from 0.81491 to 0.82183, saving model to /content/drive/MyDrive/mnist_medical_images/custom_cnn1_chest_checkpoints/best_model.keras\n",
      "\u001b[1m2453/2453\u001b[0m \u001b[32m━━━━━━━━━━━━━━━━━━━━\u001b[0m\u001b[37m\u001b[0m \u001b[1m110s\u001b[0m 45ms/step - accuracy: 0.1918 - auc: 0.8063 - loss: 0.1692 - val_accuracy: 0.2166 - val_auc: 0.8218 - val_loss: 0.1648\n",
      "Epoch 10/20\n",
      "\u001b[1m2452/2453\u001b[0m \u001b[32m━━━━━━━━━━━━━━━━━━━\u001b[0m\u001b[37m━\u001b[0m \u001b[1m0s\u001b[0m 43ms/step - accuracy: 0.1942 - auc: 0.8084 - loss: 0.1686\n",
      "Epoch 10: val_auc did not improve from 0.82183\n",
      "\u001b[1m2453/2453\u001b[0m \u001b[32m━━━━━━━━━━━━━━━━━━━━\u001b[0m\u001b[37m\u001b[0m \u001b[1m111s\u001b[0m 45ms/step - accuracy: 0.1942 - auc: 0.8084 - loss: 0.1686 - val_accuracy: 0.1407 - val_auc: 0.8002 - val_loss: 0.1704\n",
      "Epoch 11/20\n",
      "\u001b[1m2451/2453\u001b[0m \u001b[32m━━━━━━━━━━━━━━━━━━━\u001b[0m\u001b[37m━\u001b[0m \u001b[1m0s\u001b[0m 43ms/step - accuracy: 0.2017 - auc: 0.8102 - loss: 0.1687\n",
      "Epoch 11: val_auc improved from 0.82183 to 0.82311, saving model to /content/drive/MyDrive/mnist_medical_images/custom_cnn1_chest_checkpoints/best_model.keras\n",
      "\u001b[1m2453/2453\u001b[0m \u001b[32m━━━━━━━━━━━━━━━━━━━━\u001b[0m\u001b[37m\u001b[0m \u001b[1m140s\u001b[0m 44ms/step - accuracy: 0.2017 - auc: 0.8102 - loss: 0.1687 - val_accuracy: 0.1869 - val_auc: 0.8231 - val_loss: 0.1645\n",
      "Epoch 12/20\n",
      "\u001b[1m2452/2453\u001b[0m \u001b[32m━━━━━━━━━━━━━━━━━━━\u001b[0m\u001b[37m━\u001b[0m \u001b[1m0s\u001b[0m 42ms/step - accuracy: 0.2014 - auc: 0.8114 - loss: 0.1679\n",
      "Epoch 12: val_auc did not improve from 0.82311\n",
      "\u001b[1m2453/2453\u001b[0m \u001b[32m━━━━━━━━━━━━━━━━━━━━\u001b[0m\u001b[37m\u001b[0m \u001b[1m143s\u001b[0m 45ms/step - accuracy: 0.2014 - auc: 0.8114 - loss: 0.1679 - val_accuracy: 0.2064 - val_auc: 0.8086 - val_loss: 0.1710\n",
      "Epoch 13/20\n",
      "\u001b[1m2452/2453\u001b[0m \u001b[32m━━━━━━━━━━━━━━━━━━━\u001b[0m\u001b[37m━\u001b[0m \u001b[1m0s\u001b[0m 43ms/step - accuracy: 0.2042 - auc: 0.8124 - loss: 0.1680\n",
      "Epoch 13: val_auc improved from 0.82311 to 0.82365, saving model to /content/drive/MyDrive/mnist_medical_images/custom_cnn1_chest_checkpoints/best_model.keras\n",
      "\u001b[1m2453/2453\u001b[0m \u001b[32m━━━━━━━━━━━━━━━━━━━━\u001b[0m\u001b[37m\u001b[0m \u001b[1m143s\u001b[0m 45ms/step - accuracy: 0.2042 - auc: 0.8124 - loss: 0.1680 - val_accuracy: 0.1803 - val_auc: 0.8237 - val_loss: 0.1647\n",
      "Epoch 14/20\n",
      "\u001b[1m2451/2453\u001b[0m \u001b[32m━━━━━━━━━━━━━━━━━━━\u001b[0m\u001b[37m━\u001b[0m \u001b[1m0s\u001b[0m 43ms/step - accuracy: 0.1947 - auc: 0.8145 - loss: 0.1680\n",
      "Epoch 14: val_auc did not improve from 0.82365\n",
      "\u001b[1m2453/2453\u001b[0m \u001b[32m━━━━━━━━━━━━━━━━━━━━\u001b[0m\u001b[37m\u001b[0m \u001b[1m141s\u001b[0m 45ms/step - accuracy: 0.1947 - auc: 0.8145 - loss: 0.1680 - val_accuracy: 0.1922 - val_auc: 0.8198 - val_loss: 0.1656\n",
      "Epoch 15/20\n",
      "\u001b[1m2452/2453\u001b[0m \u001b[32m━━━━━━━━━━━━━━━━━━━\u001b[0m\u001b[37m━\u001b[0m \u001b[1m0s\u001b[0m 43ms/step - accuracy: 0.2078 - auc: 0.8181 - loss: 0.1655\n",
      "Epoch 15: val_auc improved from 0.82365 to 0.82604, saving model to /content/drive/MyDrive/mnist_medical_images/custom_cnn1_chest_checkpoints/best_model.keras\n",
      "\u001b[1m2453/2453\u001b[0m \u001b[32m━━━━━━━━━━━━━━━━━━━━\u001b[0m\u001b[37m\u001b[0m \u001b[1m141s\u001b[0m 44ms/step - accuracy: 0.2078 - auc: 0.8181 - loss: 0.1655 - val_accuracy: 0.1751 - val_auc: 0.8260 - val_loss: 0.1636\n",
      "Epoch 16/20\n",
      "\u001b[1m2451/2453\u001b[0m \u001b[32m━━━━━━━━━━━━━━━━━━━\u001b[0m\u001b[37m━\u001b[0m \u001b[1m0s\u001b[0m 43ms/step - accuracy: 0.2031 - auc: 0.8170 - loss: 0.1661\n",
      "Epoch 16: val_auc did not improve from 0.82604\n",
      "\u001b[1m2453/2453\u001b[0m \u001b[32m━━━━━━━━━━━━━━━━━━━━\u001b[0m\u001b[37m\u001b[0m \u001b[1m143s\u001b[0m 45ms/step - accuracy: 0.2031 - auc: 0.8170 - loss: 0.1661 - val_accuracy: 0.2482 - val_auc: 0.7608 - val_loss: 0.2168\n",
      "Epoch 17/20\n",
      "\u001b[1m2452/2453\u001b[0m \u001b[32m━━━━━━━━━━━━━━━━━━━\u001b[0m\u001b[37m━\u001b[0m \u001b[1m0s\u001b[0m 43ms/step - accuracy: 0.2085 - auc: 0.8189 - loss: 0.1669\n",
      "Epoch 17: val_auc did not improve from 0.82604\n",
      "\u001b[1m2453/2453\u001b[0m \u001b[32m━━━━━━━━━━━━━━━━━━━━\u001b[0m\u001b[37m\u001b[0m \u001b[1m141s\u001b[0m 45ms/step - accuracy: 0.2085 - auc: 0.8189 - loss: 0.1669 - val_accuracy: 0.1787 - val_auc: 0.8233 - val_loss: 0.1646\n",
      "Epoch 18/20\n",
      "\u001b[1m2451/2453\u001b[0m \u001b[32m━━━━━━━━━━━━━━━━━━━\u001b[0m\u001b[37m━\u001b[0m \u001b[1m0s\u001b[0m 43ms/step - accuracy: 0.2066 - auc: 0.8200 - loss: 0.1664\n",
      "Epoch 18: val_auc improved from 0.82604 to 0.82724, saving model to /content/drive/MyDrive/mnist_medical_images/custom_cnn1_chest_checkpoints/best_model.keras\n",
      "\u001b[1m2453/2453\u001b[0m \u001b[32m━━━━━━━━━━━━━━━━━━━━\u001b[0m\u001b[37m\u001b[0m \u001b[1m144s\u001b[0m 45ms/step - accuracy: 0.2066 - auc: 0.8200 - loss: 0.1664 - val_accuracy: 0.1957 - val_auc: 0.8272 - val_loss: 0.1634\n",
      "Epoch 19/20\n",
      "\u001b[1m2452/2453\u001b[0m \u001b[32m━━━━━━━━━━━━━━━━━━━\u001b[0m\u001b[37m━\u001b[0m \u001b[1m0s\u001b[0m 44ms/step - accuracy: 0.2045 - auc: 0.8219 - loss: 0.1658\n",
      "Epoch 19: val_auc did not improve from 0.82724\n",
      "\u001b[1m2453/2453\u001b[0m \u001b[32m━━━━━━━━━━━━━━━━━━━━\u001b[0m\u001b[37m\u001b[0m \u001b[1m142s\u001b[0m 45ms/step - accuracy: 0.2045 - auc: 0.8218 - loss: 0.1658 - val_accuracy: 0.1671 - val_auc: 0.8261 - val_loss: 0.1638\n",
      "Epoch 20/20\n",
      "\u001b[1m2453/2453\u001b[0m \u001b[32m━━━━━━━━━━━━━━━━━━━━\u001b[0m\u001b[37m\u001b[0m \u001b[1m0s\u001b[0m 43ms/step - accuracy: 0.2136 - auc: 0.8227 - loss: 0.1648\n",
      "Epoch 20: val_auc did not improve from 0.82724\n",
      "\u001b[1m2453/2453\u001b[0m \u001b[32m━━━━━━━━━━━━━━━━━━━━\u001b[0m\u001b[37m\u001b[0m \u001b[1m110s\u001b[0m 45ms/step - accuracy: 0.2136 - auc: 0.8227 - loss: 0.1648 - val_accuracy: 0.1848 - val_auc: 0.8258 - val_loss: 0.1639\n",
      "Restoring model weights from the end of the best epoch: 18.\n"
     ]
    }
   ],
   "source": [
    "history = model.fit(\n",
    "    x_train, y_train,\n",
    "    validation_data=(x_val, y_val),\n",
    "    epochs=20,\n",
    "    callbacks=callbacks\n",
    ")"
   ]
  },
  {
   "cell_type": "code",
   "execution_count": null,
   "metadata": {
    "colab": {
     "base_uri": "https://localhost:8080/"
    },
    "id": "r5f6CB-JiTb8",
    "outputId": "4cb1f803-ffb1-4154-e95f-829de24a8719"
   },
   "outputs": [
    {
     "name": "stdout",
     "output_type": "stream",
     "text": [
      "\u001b[1m702/702\u001b[0m \u001b[32m━━━━━━━━━━━━━━━━━━━━\u001b[0m\u001b[37m\u001b[0m \u001b[1m8s\u001b[0m 11ms/step - accuracy: 0.1825 - auc: 0.8238 - loss: 0.1680\n",
      "Test Loss: 0.1680, Test AUC: 0.8235, Test Accuracy: 0.1854\n"
     ]
    }
   ],
   "source": [
    "results = model.evaluate(x_test,y_test)\n",
    "print(f\"Test Loss: {results[0]:.4f}, Test AUC: {results[1]:.4f}, Test Accuracy: {results[2]:.4f}\")\n"
   ]
  },
  {
   "cell_type": "code",
   "execution_count": null,
   "metadata": {
    "colab": {
     "base_uri": "https://localhost:8080/"
    },
    "id": "XrP-EoJIigQv",
    "outputId": "1ac47191-3623-4869-e81c-0cfb21b2b5d1"
   },
   "outputs": [
    {
     "name": "stdout",
     "output_type": "stream",
     "text": [
      "\u001b[1m702/702\u001b[0m \u001b[32m━━━━━━━━━━━━━━━━━━━━\u001b[0m\u001b[37m\u001b[0m \u001b[1m10s\u001b[0m 14ms/step\n",
      "                    precision    recall  f1-score   support\n",
      "\n",
      "       Atelectasis       0.33      0.01      0.01      2420\n",
      "      Cardiomegaly       0.64      0.02      0.03       582\n",
      "          Effusion       0.48      0.24      0.32      2754\n",
      "      Infiltration       0.38      0.17      0.24      3938\n",
      "              Mass       0.25      0.00      0.00      1133\n",
      "            Nodule       0.00      0.00      0.00      1335\n",
      "         Pneumonia       0.00      0.00      0.00       242\n",
      "      Pneumothorax       0.11      0.00      0.00      1089\n",
      "     Consolidation       0.00      0.00      0.00       957\n",
      "             Edema       0.00      0.00      0.00       413\n",
      "         Emphysema       0.00      0.00      0.00       509\n",
      "          Fibrosis       0.00      0.00      0.00       362\n",
      "Pleural Thickening       0.00      0.00      0.00       734\n",
      "            Hernia       0.00      0.00      0.00        42\n",
      "\n",
      "         micro avg       0.42      0.08      0.14     16510\n",
      "         macro avg       0.16      0.03      0.04     16510\n",
      "      weighted avg       0.27      0.08      0.11     16510\n",
      "       samples avg       0.05      0.04      0.04     16510\n",
      "\n",
      "Micro AUC: 0.8240744361940131\n",
      "Macro AUC: 0.743313020863317\n"
     ]
    }
   ],
   "source": [
    "from sklearn.metrics import classification_report, roc_auc_score\n",
    "\n",
    "# Get prediction probabilities\n",
    "y_pred_probs = model.predict(x_test)  # shape: (n_samples, 14)\n",
    "\n",
    "#  Apply threshold to get binary predictions\n",
    "y_pred = (y_pred_probs >= 0.3).astype(int)\n",
    "\n",
    "\n",
    "print(classification_report(y_test, y_pred, target_names=class_names, zero_division=0))\n",
    "print(\"Micro AUC:\", roc_auc_score(y_test, y_pred_probs, average='micro'))\n",
    "print(\"Macro AUC:\", roc_auc_score(y_test, y_pred_probs, average='macro'))\n"
   ]
  },
  {
   "cell_type": "markdown",
   "metadata": {
    "id": "ANOLHQtZ3EJF"
   },
   "source": [
    "The dataset is imbalanced, most samples have multiple labels, and some classes are rare. Hence low accuracy is expected in this multi-label setting"
   ]
  },
  {
   "cell_type": "markdown",
   "metadata": {
    "id": "o6Iy1Xiq3Hwn"
   },
   "source": [
    "# **2. Simple CNN with class weights to address class imbalance**"
   ]
  },
  {
   "cell_type": "code",
   "execution_count": 36,
   "metadata": {
    "colab": {
     "base_uri": "https://localhost:8080/"
    },
    "id": "7F4_KZeS3Kgt",
    "outputId": "7e9bc245-7af1-44b5-8474-621b131b05b7"
   },
   "outputs": [
    {
     "name": "stdout",
     "output_type": "stream",
     "text": [
      "Class weights: [0.018009   0.07384615 0.01554908 0.01034929 0.03610832 0.03291429\n",
      " 0.14723926 0.0388664  0.04413117 0.0852071  0.08004447 0.12435233\n",
      " 0.06318561 1.        ]\n"
     ]
    }
   ],
   "source": [
    "#  Count Samples per Class\n",
    "\n",
    "\n",
    "# Count positive samples per class\n",
    "class_counts = np.sum(y_train, axis=0)\n",
    "\n",
    "# Total number of samples\n",
    "total_samples = y_train.shape[0]\n",
    "\n",
    "# Calculate class weights (inverse frequency)\n",
    "class_weights = total_samples / (len(class_counts) * class_counts)\n",
    "\n",
    "# Normalize (optional)\n",
    "class_weights = class_weights / np.max(class_weights)\n",
    "\n",
    "print(\"Class weights:\", class_weights)\n"
   ]
  },
  {
   "cell_type": "code",
   "execution_count": 37,
   "metadata": {
    "id": "OZrf4Ih33KoK"
   },
   "outputs": [],
   "source": [
    "# Broadcast class_weights to each sample label\n",
    "sample_weights_matrix = y_train * class_weights  # Only weights for positive labels\n",
    "sample_weights = np.sum(sample_weights_matrix, axis=1)  # Collapse to (n_samples,)"
   ]
  },
  {
   "cell_type": "markdown",
   "metadata": {
    "id": "MLT89fULDN14"
   },
   "source": [
    "## Define & Train Model"
   ]
  },
  {
   "cell_type": "code",
   "execution_count": null,
   "metadata": {
    "colab": {
     "base_uri": "https://localhost:8080/"
    },
    "id": "RgmgxzIz3aMO",
    "outputId": "1e3657fb-90aa-43ee-f6e8-3bac35370836"
   },
   "outputs": [
    {
     "name": "stdout",
     "output_type": "stream",
     "text": [
      "Epoch 1/20\n",
      "\u001b[1m1227/1227\u001b[0m \u001b[32m━━━━━━━━━━━━━━━━━━━━\u001b[0m\u001b[37m\u001b[0m \u001b[1m109s\u001b[0m 86ms/step - accuracy: 0.1526 - auc: 0.6439 - loss: 0.0121 - val_accuracy: 0.1296 - val_auc: 0.7631 - val_loss: 0.2100 - learning_rate: 0.0010\n",
      "Epoch 2/20\n",
      "\u001b[1m1227/1227\u001b[0m \u001b[32m━━━━━━━━━━━━━━━━━━━━\u001b[0m\u001b[37m\u001b[0m \u001b[1m140s\u001b[0m 84ms/step - accuracy: 0.1283 - auc: 0.7093 - loss: 0.0107 - val_accuracy: 0.1727 - val_auc: 0.7623 - val_loss: 0.2341 - learning_rate: 0.0010\n",
      "Epoch 3/20\n",
      "\u001b[1m1227/1227\u001b[0m \u001b[32m━━━━━━━━━━━━━━━━━━━━\u001b[0m\u001b[37m\u001b[0m \u001b[1m141s\u001b[0m 83ms/step - accuracy: 0.1748 - auc: 0.7208 - loss: 0.0102 - val_accuracy: 0.3036 - val_auc: 0.7527 - val_loss: 0.2679 - learning_rate: 0.0010\n",
      "Epoch 4/20\n",
      "\u001b[1m1227/1227\u001b[0m \u001b[32m━━━━━━━━━━━━━━━━━━━━\u001b[0m\u001b[37m\u001b[0m \u001b[1m145s\u001b[0m 86ms/step - accuracy: 0.1990 - auc: 0.7288 - loss: 0.0101 - val_accuracy: 0.2304 - val_auc: 0.7786 - val_loss: 0.2170 - learning_rate: 5.0000e-04\n",
      "Epoch 5/20\n",
      "\u001b[1m1227/1227\u001b[0m \u001b[32m━━━━━━━━━━━━━━━━━━━━\u001b[0m\u001b[37m\u001b[0m \u001b[1m140s\u001b[0m 84ms/step - accuracy: 0.2037 - auc: 0.7364 - loss: 0.0101 - val_accuracy: 0.1481 - val_auc: 0.7746 - val_loss: 0.2101 - learning_rate: 5.0000e-04\n",
      "Epoch 6/20\n",
      "\u001b[1m1227/1227\u001b[0m \u001b[32m━━━━━━━━━━━━━━━━━━━━\u001b[0m\u001b[37m\u001b[0m \u001b[1m144s\u001b[0m 86ms/step - accuracy: 0.1813 - auc: 0.7378 - loss: 0.0099 - val_accuracy: 0.1415 - val_auc: 0.7822 - val_loss: 0.2286 - learning_rate: 2.5000e-04\n"
     ]
    }
   ],
   "source": [
    "# Weighted model\n",
    "\n",
    "# Clone the existing model\n",
    "model_weighted = tf.keras.models.clone_model(model)\n",
    "\n",
    "# Compile the model\n",
    "model_weighted.compile(\n",
    "    loss='binary_crossentropy',\n",
    "    optimizer=Adam(learning_rate=0.001),\n",
    "    metrics=[tf.keras.metrics.AUC(name='auc'), 'accuracy']\n",
    ")\n",
    "\n",
    "#training\n",
    "history = model_weighted.fit(\n",
    "    x_train, y_train,\n",
    "    validation_data=(x_val, y_val),\n",
    "    batch_size=64,\n",
    "    epochs=20,\n",
    "    sample_weight=sample_weights,\n",
    "    callbacks=callbacks ,\n",
    ")\n"
   ]
  },
  {
   "cell_type": "code",
   "execution_count": null,
   "metadata": {
    "id": "XpVg7NzHDN14"
   },
   "outputs": [],
   "source": []
  },
  {
   "cell_type": "markdown",
   "metadata": {
    "id": "ICUZ9QOXDN14"
   },
   "source": [
    "## Evaluation"
   ]
  },
  {
   "cell_type": "code",
   "execution_count": null,
   "metadata": {
    "colab": {
     "base_uri": "https://localhost:8080/"
    },
    "id": "b6s-oD9o4Vtk",
    "outputId": "4d7d4085-30cd-4e14-fcc8-92d72ef7b772"
   },
   "outputs": [
    {
     "name": "stdout",
     "output_type": "stream",
     "text": [
      "\u001b[1m702/702\u001b[0m \u001b[32m━━━━━━━━━━━━━━━━━━━━\u001b[0m\u001b[37m\u001b[0m \u001b[1m7s\u001b[0m 10ms/step - accuracy: 0.1225 - auc: 0.7616 - loss: 0.2135\n",
      "Evaluation metrics weighted: [0.21364998817443848, 0.7607282400131226, 0.12530647218227386]\n"
     ]
    }
   ],
   "source": [
    "# Evaluate\n",
    "results = model_weighted.evaluate(x_test, y_test)\n",
    "print(\"Evaluation metrics weighted:\", results)"
   ]
  },
  {
   "cell_type": "code",
   "execution_count": null,
   "metadata": {
    "colab": {
     "base_uri": "https://localhost:8080/"
    },
    "id": "_1h4gN-b4WYI",
    "outputId": "df2a914a-c371-4a1f-a9b8-dc6d8faa1305"
   },
   "outputs": [
    {
     "name": "stdout",
     "output_type": "stream",
     "text": [
      "\u001b[1m702/702\u001b[0m \u001b[32m━━━━━━━━━━━━━━━━━━━━\u001b[0m\u001b[37m\u001b[0m \u001b[1m8s\u001b[0m 10ms/step\n"
     ]
    }
   ],
   "source": [
    "y_pred_probs = model_weighted.predict(x_test) #Predict probabilities on test set. Returns softmax output for each class\n",
    "\n",
    "\n",
    "y_pred = np.argmax(y_pred_probs, axis=1)  # Converts softmax probabilities into predicted class labels (integers).\n",
    "y_true = y_test.flatten() # ensure that the test labels are in the correct 1D shape"
   ]
  },
  {
   "cell_type": "code",
   "execution_count": null,
   "metadata": {
    "colab": {
     "base_uri": "https://localhost:8080/"
    },
    "id": "_QupGYXB4ZsI",
    "outputId": "beb426a0-82f4-4efd-d2e0-11ba842ec279"
   },
   "outputs": [
    {
     "name": "stdout",
     "output_type": "stream",
     "text": [
      "Classification Report:\n",
      "\n",
      "                    precision    recall  f1-score   support\n",
      "\n",
      "       Atelectasis       0.20      0.00      0.00      2420\n",
      "      Cardiomegaly       0.00      0.00      0.00       582\n",
      "          Effusion       0.20      0.62      0.30      2754\n",
      "      Infiltration       0.21      0.69      0.33      3938\n",
      "              Mass       0.00      0.00      0.00      1133\n",
      "            Nodule       0.00      0.00      0.00      1335\n",
      "         Pneumonia       0.00      0.00      0.00       242\n",
      "      Pneumothorax       0.00      0.00      0.00      1089\n",
      "     Consolidation       0.00      0.00      0.00       957\n",
      "             Edema       0.08      0.18      0.11       413\n",
      "         Emphysema       0.00      0.00      0.00       509\n",
      "          Fibrosis       0.00      0.00      0.00       362\n",
      "Pleural Thickening       0.00      0.00      0.00       734\n",
      "            Hernia       0.00      0.00      0.00        42\n",
      "\n",
      "         micro avg       0.20      0.27      0.23     16510\n",
      "         macro avg       0.05      0.11      0.05     16510\n",
      "      weighted avg       0.12      0.27      0.13     16510\n",
      "       samples avg       0.11      0.13      0.11     16510\n",
      "\n"
     ]
    }
   ],
   "source": [
    "# Binarize predictions using threshold (e.g., 0.5)\n",
    "y_pred = (y_pred_probs >= 0.3).astype(int)\n",
    "\n",
    "#  Generate classification report\n",
    "print(\"Classification Report:\\n\")\n",
    "print(classification_report(y_test, y_pred, target_names=class_names, zero_division=0))"
   ]
  },
  {
   "cell_type": "code",
   "execution_count": null,
   "metadata": {
    "colab": {
     "base_uri": "https://localhost:8080/"
    },
    "id": "8d0dvS774Wcp",
    "outputId": "f708a571-0975-4eed-d8bf-20d8bc7a12f7"
   },
   "outputs": [
    {
     "name": "stdout",
     "output_type": "stream",
     "text": [
      "Micro AUC: 0.7607976933692926\n",
      "Macro AUC: 0.6270779364260664\n"
     ]
    }
   ],
   "source": [
    "\n",
    "print(\"Micro AUC:\", roc_auc_score(y_test, y_pred_probs, average='micro'))\n",
    "print(\"Macro AUC:\", roc_auc_score(y_test, y_pred_probs, average='macro'))"
   ]
  },
  {
   "cell_type": "markdown",
   "metadata": {
    "id": "mPHbxt6Di46K"
   },
   "source": []
  },
  {
   "cell_type": "markdown",
   "metadata": {
    "id": "ZNkF3N71i57i"
   },
   "source": [
    "# **3. Simple CNN with Hyperparameter Optimization**"
   ]
  },
  {
   "cell_type": "code",
   "execution_count": null,
   "metadata": {
    "colab": {
     "base_uri": "https://localhost:8080/"
    },
    "id": "37l424jtlpWw",
    "outputId": "74ab8450-7fd8-470d-bf20-804a26024938"
   },
   "outputs": [
    {
     "name": "stdout",
     "output_type": "stream",
     "text": [
      "Collecting scikit-optimize\n",
      "  Downloading scikit_optimize-0.10.2-py2.py3-none-any.whl.metadata (9.7 kB)\n",
      "Requirement already satisfied: joblib>=0.11 in /usr/local/lib/python3.11/dist-packages (from scikit-optimize) (1.4.2)\n",
      "Collecting pyaml>=16.9 (from scikit-optimize)\n",
      "  Downloading pyaml-25.1.0-py3-none-any.whl.metadata (12 kB)\n",
      "Requirement already satisfied: numpy>=1.20.3 in /usr/local/lib/python3.11/dist-packages (from scikit-optimize) (2.0.2)\n",
      "Requirement already satisfied: scipy>=1.1.0 in /usr/local/lib/python3.11/dist-packages (from scikit-optimize) (1.14.1)\n",
      "Requirement already satisfied: scikit-learn>=1.0.0 in /usr/local/lib/python3.11/dist-packages (from scikit-optimize) (1.6.1)\n",
      "Requirement already satisfied: packaging>=21.3 in /usr/local/lib/python3.11/dist-packages (from scikit-optimize) (24.2)\n",
      "Requirement already satisfied: PyYAML in /usr/local/lib/python3.11/dist-packages (from pyaml>=16.9->scikit-optimize) (6.0.2)\n",
      "Requirement already satisfied: threadpoolctl>=3.1.0 in /usr/local/lib/python3.11/dist-packages (from scikit-learn>=1.0.0->scikit-optimize) (3.6.0)\n",
      "Downloading scikit_optimize-0.10.2-py2.py3-none-any.whl (107 kB)\n",
      "\u001b[2K   \u001b[90m━━━━━━━━━━━━━━━━━━━━━━━━━━━━━━━━━━━━━━━━\u001b[0m \u001b[32m107.8/107.8 kB\u001b[0m \u001b[31m2.7 MB/s\u001b[0m eta \u001b[36m0:00:00\u001b[0m\n",
      "\u001b[?25hDownloading pyaml-25.1.0-py3-none-any.whl (26 kB)\n",
      "Installing collected packages: pyaml, scikit-optimize\n",
      "Successfully installed pyaml-25.1.0 scikit-optimize-0.10.2\n"
     ]
    }
   ],
   "source": [
    "!pip install scikit-optimize"
   ]
  },
  {
   "cell_type": "code",
   "execution_count": null,
   "metadata": {
    "id": "TDmfGr8ji_R9"
   },
   "outputs": [],
   "source": [
    "from skopt import gp_minimize\n",
    "from skopt.space import Real, Integer\n",
    "from skopt.utils import use_named_args\n",
    "\n",
    "\n",
    "\n",
    "# Define search space\n",
    "search_space = [\n",
    "    Real(1e-4, 1e-2, name='learning_rate'),\n",
    "    Integer(32, 128, name='batch_size'),\n",
    "    Real(0.2, 0.5, name='dropout_rate'),\n",
    "]\n",
    "\n",
    "@use_named_args(search_space)\n",
    "def objective(learning_rate, batch_size, dropout_rate):\n",
    "    tf.keras.backend.clear_session()  # clear session to avoid cluttered graph\n",
    "\n",
    "    # Build model\n",
    "    model = Sequential([\n",
    "        Conv2D(32, (3, 3), activation='relu', input_shape=(28, 28, 1)),\n",
    "        BatchNormalization(),\n",
    "        MaxPooling2D(pool_size=(2, 2)),\n",
    "        Dropout(dropout_rate),\n",
    "\n",
    "        Conv2D(64, (3, 3), activation='relu'),\n",
    "        BatchNormalization(),\n",
    "        MaxPooling2D(pool_size=(2, 2)),\n",
    "        Dropout(dropout_rate),\n",
    "\n",
    "        Flatten(),\n",
    "        Dense(128, activation='relu'),\n",
    "        Dropout(dropout_rate),\n",
    "        Dense(14, activation='sigmoid')\n",
    "    ])\n",
    "\n",
    "    model.compile(\n",
    "        loss='binary_crossentropy',\n",
    "        optimizer=Adam(learning_rate=learning_rate),\n",
    "        metrics=[tf.keras.metrics.AUC(name='val_auc')]\n",
    "    )\n",
    "\n",
    "    history = model.fit(\n",
    "        x_train, y_train,\n",
    "        validation_data=(x_val, y_val),\n",
    "        batch_size=batch_size,\n",
    "        epochs=10,\n",
    "        sample_weight=sample_weights,\n",
    "        callbacks=callbacks,\n",
    "        verbose=0\n",
    "    )\n",
    "\n",
    "    # Return negative val_auc (to maximize AUC)\n",
    "    return -max(history.history['val_auc'])\n",
    "\n",
    "\n",
    "\n"
   ]
  },
  {
   "cell_type": "code",
   "execution_count": null,
   "metadata": {
    "colab": {
     "base_uri": "https://localhost:8080/"
    },
    "id": "JqmjolrZlI29",
    "outputId": "672364de-278e-413e-da7f-cb3ecdea53d7"
   },
   "outputs": [
    {
     "name": "stderr",
     "output_type": "stream",
     "text": [
      "/usr/local/lib/python3.11/dist-packages/keras/src/layers/convolutional/base_conv.py:107: UserWarning: Do not pass an `input_shape`/`input_dim` argument to a layer. When using Sequential models, prefer using an `Input(shape)` object as the first layer in the model instead.\n",
      "  super().__init__(activity_regularizer=activity_regularizer, **kwargs)\n"
     ]
    },
    {
     "name": "stdout",
     "output_type": "stream",
     "text": [
      "\n",
      "Epoch 1: val_auc improved from -inf to 0.68896, saving model to /content/drive/MyDrive/mnist_medical_images/custom_cnn1_chest_checkpoints/best_model.keras\n",
      "\n",
      "Epoch 2: val_auc improved from 0.68896 to 0.74071, saving model to /content/drive/MyDrive/mnist_medical_images/custom_cnn1_chest_checkpoints/best_model.keras\n",
      "\n",
      "Epoch 3: val_auc improved from 0.74071 to 0.74112, saving model to /content/drive/MyDrive/mnist_medical_images/custom_cnn1_chest_checkpoints/best_model.keras\n",
      "\n",
      "Epoch 4: val_auc improved from 0.74112 to 0.74135, saving model to /content/drive/MyDrive/mnist_medical_images/custom_cnn1_chest_checkpoints/best_model.keras\n",
      "\n",
      "Epoch 5: val_auc did not improve from 0.74135\n",
      "\n",
      "Epoch 6: val_auc did not improve from 0.74135\n",
      "\n",
      "Epoch 7: val_auc did not improve from 0.74135\n",
      "\n",
      "Epoch 8: val_auc did not improve from 0.74135\n",
      "\n",
      "Epoch 9: val_auc improved from 0.74135 to 0.74147, saving model to /content/drive/MyDrive/mnist_medical_images/custom_cnn1_chest_checkpoints/best_model.keras\n",
      "\n",
      "Epoch 10: val_auc did not improve from 0.74147\n",
      "Restoring model weights from the end of the best epoch: 9.\n",
      "\n",
      "Epoch 1: val_auc did not improve from 0.74147\n",
      "\n",
      "Epoch 2: val_auc did not improve from 0.74147\n",
      "\n",
      "Epoch 3: val_auc improved from 0.74147 to 0.74706, saving model to /content/drive/MyDrive/mnist_medical_images/custom_cnn1_chest_checkpoints/best_model.keras\n",
      "\n",
      "Epoch 4: val_auc did not improve from 0.74706\n",
      "\n",
      "Epoch 5: val_auc did not improve from 0.74706\n",
      "\n",
      "Epoch 6: val_auc did not improve from 0.74706\n",
      "\n",
      "Epoch 7: val_auc did not improve from 0.74706\n",
      "\n",
      "Epoch 8: val_auc improved from 0.74706 to 0.74756, saving model to /content/drive/MyDrive/mnist_medical_images/custom_cnn1_chest_checkpoints/best_model.keras\n",
      "\n",
      "Epoch 9: val_auc did not improve from 0.74756\n",
      "\n",
      "Epoch 10: val_auc did not improve from 0.74756\n",
      "Restoring model weights from the end of the best epoch: 8.\n",
      "\n",
      "Epoch 1: val_auc did not improve from 0.74756\n",
      "\n",
      "Epoch 2: val_auc did not improve from 0.74756\n",
      "\n",
      "Epoch 3: val_auc did not improve from 0.74756\n",
      "\n",
      "Epoch 4: val_auc improved from 0.74756 to 0.74908, saving model to /content/drive/MyDrive/mnist_medical_images/custom_cnn1_chest_checkpoints/best_model.keras\n",
      "\n",
      "Epoch 5: val_auc did not improve from 0.74908\n",
      "\n",
      "Epoch 6: val_auc did not improve from 0.74908\n",
      "\n",
      "Epoch 7: val_auc improved from 0.74908 to 0.74910, saving model to /content/drive/MyDrive/mnist_medical_images/custom_cnn1_chest_checkpoints/best_model.keras\n",
      "\n",
      "Epoch 8: val_auc did not improve from 0.74910\n",
      "\n",
      "Epoch 9: val_auc did not improve from 0.74910\n",
      "\n",
      "Epoch 10: val_auc improved from 0.74910 to 0.74979, saving model to /content/drive/MyDrive/mnist_medical_images/custom_cnn1_chest_checkpoints/best_model.keras\n",
      "Restoring model weights from the end of the best epoch: 10.\n",
      "\n",
      "Epoch 1: val_auc did not improve from 0.74979\n",
      "\n",
      "Epoch 2: val_auc did not improve from 0.74979\n",
      "\n",
      "Epoch 3: val_auc did not improve from 0.74979\n",
      "\n",
      "Epoch 4: val_auc did not improve from 0.74979\n",
      "\n",
      "Epoch 5: val_auc did not improve from 0.74979\n",
      "\n",
      "Epoch 6: val_auc did not improve from 0.74979\n",
      "\n",
      "Epoch 7: val_auc did not improve from 0.74979\n",
      "\n",
      "Epoch 8: val_auc did not improve from 0.74979\n",
      "\n",
      "Epoch 9: val_auc did not improve from 0.74979\n",
      "\n",
      "Epoch 10: val_auc did not improve from 0.74979\n",
      "Restoring model weights from the end of the best epoch: 8.\n",
      "\n",
      "Epoch 1: val_auc did not improve from 0.74979\n",
      "\n",
      "Epoch 2: val_auc did not improve from 0.74979\n",
      "\n",
      "Epoch 3: val_auc did not improve from 0.74979\n",
      "\n",
      "Epoch 4: val_auc did not improve from 0.74979\n",
      "\n",
      "Epoch 5: val_auc did not improve from 0.74979\n",
      "\n",
      "Epoch 6: val_auc did not improve from 0.74979\n",
      "\n",
      "Epoch 7: val_auc did not improve from 0.74979\n",
      "\n",
      "Epoch 8: val_auc did not improve from 0.74979\n",
      "\n",
      "Epoch 9: val_auc did not improve from 0.74979\n",
      "\n",
      "Epoch 10: val_auc did not improve from 0.74979\n",
      "Restoring model weights from the end of the best epoch: 6.\n",
      "\n",
      "Epoch 1: val_auc did not improve from 0.74979\n",
      "\n",
      "Epoch 2: val_auc did not improve from 0.74979\n",
      "\n",
      "Epoch 3: val_auc did not improve from 0.74979\n",
      "\n",
      "Epoch 4: val_auc did not improve from 0.74979\n",
      "\n",
      "Epoch 5: val_auc improved from 0.74979 to 0.75089, saving model to /content/drive/MyDrive/mnist_medical_images/custom_cnn1_chest_checkpoints/best_model.keras\n",
      "\n",
      "Epoch 6: val_auc did not improve from 0.75089\n",
      "\n",
      "Epoch 7: val_auc did not improve from 0.75089\n",
      "\n",
      "Epoch 8: val_auc did not improve from 0.75089\n",
      "\n",
      "Epoch 9: val_auc did not improve from 0.75089\n",
      "\n",
      "Epoch 10: val_auc did not improve from 0.75089\n",
      "Epoch 10: early stopping\n",
      "Restoring model weights from the end of the best epoch: 5.\n",
      "\n",
      "Epoch 1: val_auc did not improve from 0.75089\n",
      "\n",
      "Epoch 2: val_auc did not improve from 0.75089\n",
      "\n",
      "Epoch 3: val_auc did not improve from 0.75089\n",
      "\n",
      "Epoch 4: val_auc did not improve from 0.75089\n",
      "\n",
      "Epoch 5: val_auc did not improve from 0.75089\n",
      "\n",
      "Epoch 6: val_auc did not improve from 0.75089\n",
      "\n",
      "Epoch 7: val_auc did not improve from 0.75089\n",
      "\n",
      "Epoch 8: val_auc did not improve from 0.75089\n",
      "\n",
      "Epoch 9: val_auc did not improve from 0.75089\n",
      "\n",
      "Epoch 10: val_auc did not improve from 0.75089\n",
      "Restoring model weights from the end of the best epoch: 10.\n",
      "\n",
      "Epoch 1: val_auc did not improve from 0.75089\n",
      "\n",
      "Epoch 2: val_auc did not improve from 0.75089\n",
      "\n",
      "Epoch 3: val_auc did not improve from 0.75089\n",
      "\n",
      "Epoch 4: val_auc did not improve from 0.75089\n",
      "\n",
      "Epoch 5: val_auc did not improve from 0.75089\n",
      "\n",
      "Epoch 6: val_auc did not improve from 0.75089\n",
      "\n",
      "Epoch 7: val_auc did not improve from 0.75089\n",
      "\n",
      "Epoch 8: val_auc did not improve from 0.75089\n",
      "\n",
      "Epoch 9: val_auc did not improve from 0.75089\n",
      "\n",
      "Epoch 10: val_auc improved from 0.75089 to 0.75279, saving model to /content/drive/MyDrive/mnist_medical_images/custom_cnn1_chest_checkpoints/best_model.keras\n",
      "Restoring model weights from the end of the best epoch: 10.\n",
      "\n",
      "Epoch 1: val_auc did not improve from 0.75279\n",
      "\n",
      "Epoch 2: val_auc did not improve from 0.75279\n",
      "\n",
      "Epoch 3: val_auc did not improve from 0.75279\n",
      "\n",
      "Epoch 4: val_auc did not improve from 0.75279\n",
      "\n",
      "Epoch 5: val_auc did not improve from 0.75279\n",
      "\n",
      "Epoch 6: val_auc did not improve from 0.75279\n",
      "\n",
      "Epoch 7: val_auc did not improve from 0.75279\n",
      "\n",
      "Epoch 8: val_auc did not improve from 0.75279\n",
      "\n",
      "Epoch 9: val_auc did not improve from 0.75279\n",
      "\n",
      "Epoch 10: val_auc did not improve from 0.75279\n",
      "Restoring model weights from the end of the best epoch: 10.\n",
      "\n",
      "Epoch 1: val_auc did not improve from 0.75279\n",
      "\n",
      "Epoch 2: val_auc did not improve from 0.75279\n",
      "\n",
      "Epoch 3: val_auc did not improve from 0.75279\n",
      "\n",
      "Epoch 4: val_auc did not improve from 0.75279\n",
      "\n",
      "Epoch 5: val_auc did not improve from 0.75279\n",
      "\n",
      "Epoch 6: val_auc did not improve from 0.75279\n",
      "\n",
      "Epoch 7: val_auc did not improve from 0.75279\n",
      "Epoch 7: early stopping\n",
      "Restoring model weights from the end of the best epoch: 2.\n"
     ]
    },
    {
     "name": "stderr",
     "output_type": "stream",
     "text": [
      "/usr/local/lib/python3.11/dist-packages/keras/src/layers/convolutional/base_conv.py:107: UserWarning: Do not pass an `input_shape`/`input_dim` argument to a layer. When using Sequential models, prefer using an `Input(shape)` object as the first layer in the model instead.\n",
      "  super().__init__(activity_regularizer=activity_regularizer, **kwargs)\n"
     ]
    },
    {
     "name": "stdout",
     "output_type": "stream",
     "text": [
      "\n",
      "Epoch 1: val_auc did not improve from 0.75279\n",
      "\n",
      "Epoch 2: val_auc did not improve from 0.75279\n",
      "\n",
      "Epoch 3: val_auc did not improve from 0.75279\n",
      "\n",
      "Epoch 4: val_auc did not improve from 0.75279\n",
      "\n",
      "Epoch 5: val_auc did not improve from 0.75279\n",
      "\n",
      "Epoch 6: val_auc did not improve from 0.75279\n",
      "\n",
      "Epoch 7: val_auc did not improve from 0.75279\n",
      "\n",
      "Epoch 8: val_auc did not improve from 0.75279\n",
      "\n",
      "Epoch 9: val_auc did not improve from 0.75279\n",
      "\n",
      "Epoch 10: val_auc did not improve from 0.75279\n",
      "Restoring model weights from the end of the best epoch: 10.\n"
     ]
    },
    {
     "name": "stderr",
     "output_type": "stream",
     "text": [
      "/usr/local/lib/python3.11/dist-packages/keras/src/layers/convolutional/base_conv.py:107: UserWarning: Do not pass an `input_shape`/`input_dim` argument to a layer. When using Sequential models, prefer using an `Input(shape)` object as the first layer in the model instead.\n",
      "  super().__init__(activity_regularizer=activity_regularizer, **kwargs)\n"
     ]
    },
    {
     "name": "stdout",
     "output_type": "stream",
     "text": [
      "\n",
      "Epoch 1: val_auc did not improve from 0.75279\n",
      "\n",
      "Epoch 2: val_auc did not improve from 0.75279\n",
      "\n",
      "Epoch 3: val_auc did not improve from 0.75279\n",
      "\n",
      "Epoch 4: val_auc did not improve from 0.75279\n",
      "\n",
      "Epoch 5: val_auc did not improve from 0.75279\n",
      "\n",
      "Epoch 6: val_auc did not improve from 0.75279\n",
      "\n",
      "Epoch 7: val_auc did not improve from 0.75279\n",
      "\n",
      "Epoch 8: val_auc did not improve from 0.75279\n",
      "\n",
      "Epoch 9: val_auc did not improve from 0.75279\n",
      "\n",
      "Epoch 10: val_auc did not improve from 0.75279\n",
      "Restoring model weights from the end of the best epoch: 6.\n"
     ]
    },
    {
     "name": "stderr",
     "output_type": "stream",
     "text": [
      "/usr/local/lib/python3.11/dist-packages/keras/src/layers/convolutional/base_conv.py:107: UserWarning: Do not pass an `input_shape`/`input_dim` argument to a layer. When using Sequential models, prefer using an `Input(shape)` object as the first layer in the model instead.\n",
      "  super().__init__(activity_regularizer=activity_regularizer, **kwargs)\n"
     ]
    },
    {
     "name": "stdout",
     "output_type": "stream",
     "text": [
      "\n",
      "Epoch 1: val_auc did not improve from 0.75279\n",
      "\n",
      "Epoch 2: val_auc did not improve from 0.75279\n",
      "\n",
      "Epoch 3: val_auc did not improve from 0.75279\n",
      "\n",
      "Epoch 4: val_auc did not improve from 0.75279\n",
      "\n",
      "Epoch 5: val_auc did not improve from 0.75279\n",
      "\n",
      "Epoch 6: val_auc did not improve from 0.75279\n",
      "\n",
      "Epoch 7: val_auc did not improve from 0.75279\n",
      "\n",
      "Epoch 8: val_auc did not improve from 0.75279\n",
      "\n",
      "Epoch 9: val_auc did not improve from 0.75279\n",
      "Epoch 9: early stopping\n",
      "Restoring model weights from the end of the best epoch: 4.\n"
     ]
    },
    {
     "name": "stderr",
     "output_type": "stream",
     "text": [
      "/usr/local/lib/python3.11/dist-packages/keras/src/layers/convolutional/base_conv.py:107: UserWarning: Do not pass an `input_shape`/`input_dim` argument to a layer. When using Sequential models, prefer using an `Input(shape)` object as the first layer in the model instead.\n",
      "  super().__init__(activity_regularizer=activity_regularizer, **kwargs)\n"
     ]
    },
    {
     "name": "stdout",
     "output_type": "stream",
     "text": [
      "\n",
      "Epoch 1: val_auc did not improve from 0.75279\n",
      "\n",
      "Epoch 2: val_auc did not improve from 0.75279\n",
      "\n",
      "Epoch 3: val_auc did not improve from 0.75279\n",
      "\n",
      "Epoch 4: val_auc did not improve from 0.75279\n",
      "\n",
      "Epoch 5: val_auc did not improve from 0.75279\n",
      "\n",
      "Epoch 6: val_auc did not improve from 0.75279\n",
      "\n",
      "Epoch 7: val_auc improved from 0.75279 to 0.75377, saving model to /content/drive/MyDrive/mnist_medical_images/custom_cnn1_chest_checkpoints/best_model.keras\n",
      "\n",
      "Epoch 8: val_auc improved from 0.75377 to 0.75606, saving model to /content/drive/MyDrive/mnist_medical_images/custom_cnn1_chest_checkpoints/best_model.keras\n",
      "\n",
      "Epoch 9: val_auc did not improve from 0.75606\n",
      "\n",
      "Epoch 10: val_auc improved from 0.75606 to 0.75840, saving model to /content/drive/MyDrive/mnist_medical_images/custom_cnn1_chest_checkpoints/best_model.keras\n",
      "Restoring model weights from the end of the best epoch: 10.\n"
     ]
    },
    {
     "name": "stderr",
     "output_type": "stream",
     "text": [
      "/usr/local/lib/python3.11/dist-packages/keras/src/layers/convolutional/base_conv.py:107: UserWarning: Do not pass an `input_shape`/`input_dim` argument to a layer. When using Sequential models, prefer using an `Input(shape)` object as the first layer in the model instead.\n",
      "  super().__init__(activity_regularizer=activity_regularizer, **kwargs)\n"
     ]
    },
    {
     "name": "stdout",
     "output_type": "stream",
     "text": [
      "\n",
      "Epoch 1: val_auc did not improve from 0.75840\n",
      "\n",
      "Epoch 2: val_auc did not improve from 0.75840\n",
      "\n",
      "Epoch 3: val_auc did not improve from 0.75840\n",
      "\n",
      "Epoch 4: val_auc did not improve from 0.75840\n",
      "\n",
      "Epoch 5: val_auc did not improve from 0.75840\n",
      "\n",
      "Epoch 6: val_auc did not improve from 0.75840\n",
      "\n",
      "Epoch 7: val_auc did not improve from 0.75840\n",
      "\n",
      "Epoch 8: val_auc did not improve from 0.75840\n",
      "\n",
      "Epoch 9: val_auc did not improve from 0.75840\n",
      "\n",
      "Epoch 10: val_auc did not improve from 0.75840\n",
      "Restoring model weights from the end of the best epoch: 10.\n"
     ]
    }
   ],
   "source": [
    "# Run Bayesian optimization\n",
    "results = gp_minimize(objective, search_space, n_calls=15, random_state=42)"
   ]
  },
  {
   "cell_type": "code",
   "execution_count": null,
   "metadata": {
    "colab": {
     "base_uri": "https://localhost:8080/"
    },
    "id": "4lizaMXbnKXu",
    "outputId": "0dbb3978-829a-4660-b526-84d6adc01d02"
   },
   "outputs": [
    {
     "name": "stdout",
     "output_type": "stream",
     "text": [
      " Best hyperparameters:\n",
      "  - learning_rate: 0.002430833687655261\n",
      "  - batch_size: 124\n",
      "  - dropout_rate: 0.27736418451454303\n"
     ]
    }
   ],
   "source": [
    "\n",
    "print(\" Best hyperparameters:\")\n",
    "for name, val in zip(['learning_rate', 'batch_size', 'dropout_rate'], results.x):\n",
    "    print(f\"  - {name}: {val}\")\n"
   ]
  },
  {
   "cell_type": "markdown",
   "metadata": {
    "id": "ZO6vwN4yDN1-"
   },
   "source": [
    "## Define & Train Model"
   ]
  },
  {
   "cell_type": "code",
   "execution_count": null,
   "metadata": {
    "colab": {
     "base_uri": "https://localhost:8080/"
    },
    "id": "a5HmMyLOnPrT",
    "outputId": "e9f6beff-57d0-46fd-fa64-1d766736adc0"
   },
   "outputs": [
    {
     "name": "stderr",
     "output_type": "stream",
     "text": [
      "/usr/local/lib/python3.11/dist-packages/keras/src/layers/convolutional/base_conv.py:107: UserWarning: Do not pass an `input_shape`/`input_dim` argument to a layer. When using Sequential models, prefer using an `Input(shape)` object as the first layer in the model instead.\n",
      "  super().__init__(activity_regularizer=activity_regularizer, **kwargs)\n"
     ]
    },
    {
     "name": "stdout",
     "output_type": "stream",
     "text": [
      "Epoch 1/20\n",
      "\u001b[1m633/633\u001b[0m \u001b[32m━━━━━━━━━━━━━━━━━━━━\u001b[0m\u001b[37m\u001b[0m \u001b[1m0s\u001b[0m 170ms/step - accuracy: 0.1623 - auc: 0.6448 - loss: 0.0120\n",
      "Epoch 1: val_auc improved from 0.75840 to 0.76303, saving model to /content/drive/MyDrive/mnist_medical_images/custom_cnn1_chest_checkpoints/best_model.keras\n",
      "\u001b[1m633/633\u001b[0m \u001b[32m━━━━━━━━━━━━━━━━━━━━\u001b[0m\u001b[37m\u001b[0m \u001b[1m117s\u001b[0m 179ms/step - accuracy: 0.1623 - auc: 0.6449 - loss: 0.0120 - val_accuracy: 0.1284 - val_auc: 0.7630 - val_loss: 0.1879\n",
      "Epoch 2/20\n",
      "\u001b[1m633/633\u001b[0m \u001b[32m━━━━━━━━━━━━━━━━━━━━\u001b[0m\u001b[37m\u001b[0m \u001b[1m0s\u001b[0m 172ms/step - accuracy: 0.1685 - auc: 0.7129 - loss: 0.0105\n",
      "Epoch 2: val_auc improved from 0.76303 to 0.77029, saving model to /content/drive/MyDrive/mnist_medical_images/custom_cnn1_chest_checkpoints/best_model.keras\n",
      "\u001b[1m633/633\u001b[0m \u001b[32m━━━━━━━━━━━━━━━━━━━━\u001b[0m\u001b[37m\u001b[0m \u001b[1m142s\u001b[0m 180ms/step - accuracy: 0.1685 - auc: 0.7129 - loss: 0.0105 - val_accuracy: 0.1654 - val_auc: 0.7703 - val_loss: 0.2157\n",
      "Epoch 3/20\n",
      "\u001b[1m633/633\u001b[0m \u001b[32m━━━━━━━━━━━━━━━━━━━━\u001b[0m\u001b[37m\u001b[0m \u001b[1m0s\u001b[0m 170ms/step - accuracy: 0.1555 - auc: 0.7285 - loss: 0.0103\n",
      "Epoch 3: val_auc did not improve from 0.77029\n",
      "\u001b[1m633/633\u001b[0m \u001b[32m━━━━━━━━━━━━━━━━━━━━\u001b[0m\u001b[37m\u001b[0m \u001b[1m113s\u001b[0m 178ms/step - accuracy: 0.1555 - auc: 0.7285 - loss: 0.0103 - val_accuracy: 0.1264 - val_auc: 0.7655 - val_loss: 0.2277\n",
      "Epoch 4/20\n",
      "\u001b[1m633/633\u001b[0m \u001b[32m━━━━━━━━━━━━━━━━━━━━\u001b[0m\u001b[37m\u001b[0m \u001b[1m0s\u001b[0m 170ms/step - accuracy: 0.1485 - auc: 0.7341 - loss: 0.0102\n",
      "Epoch 4: val_auc did not improve from 0.77029\n",
      "\u001b[1m633/633\u001b[0m \u001b[32m━━━━━━━━━━━━━━━━━━━━\u001b[0m\u001b[37m\u001b[0m \u001b[1m139s\u001b[0m 174ms/step - accuracy: 0.1485 - auc: 0.7342 - loss: 0.0102 - val_accuracy: 0.1930 - val_auc: 0.7583 - val_loss: 0.2370\n",
      "Epoch 5/20\n",
      "\u001b[1m633/633\u001b[0m \u001b[32m━━━━━━━━━━━━━━━━━━━━\u001b[0m\u001b[37m\u001b[0m \u001b[1m0s\u001b[0m 171ms/step - accuracy: 0.1788 - auc: 0.7423 - loss: 0.0100\n",
      "Epoch 5: val_auc did not improve from 0.77029\n",
      "\u001b[1m633/633\u001b[0m \u001b[32m━━━━━━━━━━━━━━━━━━━━\u001b[0m\u001b[37m\u001b[0m \u001b[1m145s\u001b[0m 179ms/step - accuracy: 0.1788 - auc: 0.7423 - loss: 0.0100 - val_accuracy: 0.1420 - val_auc: 0.7643 - val_loss: 0.2240\n",
      "Epoch 6/20\n",
      "\u001b[1m633/633\u001b[0m \u001b[32m━━━━━━━━━━━━━━━━━━━━\u001b[0m\u001b[37m\u001b[0m \u001b[1m0s\u001b[0m 168ms/step - accuracy: 0.1595 - auc: 0.7462 - loss: 0.0099\n",
      "Epoch 6: val_auc did not improve from 0.77029\n",
      "\u001b[1m633/633\u001b[0m \u001b[32m━━━━━━━━━━━━━━━━━━━━\u001b[0m\u001b[37m\u001b[0m \u001b[1m140s\u001b[0m 176ms/step - accuracy: 0.1595 - auc: 0.7462 - loss: 0.0099 - val_accuracy: 0.1317 - val_auc: 0.7576 - val_loss: 0.2412\n",
      "Epoch 7/20\n",
      "\u001b[1m633/633\u001b[0m \u001b[32m━━━━━━━━━━━━━━━━━━━━\u001b[0m\u001b[37m\u001b[0m \u001b[1m0s\u001b[0m 168ms/step - accuracy: 0.1797 - auc: 0.7531 - loss: 0.0099\n",
      "Epoch 7: val_auc improved from 0.77029 to 0.77278, saving model to /content/drive/MyDrive/mnist_medical_images/custom_cnn1_chest_checkpoints/best_model.keras\n",
      "\u001b[1m633/633\u001b[0m \u001b[32m━━━━━━━━━━━━━━━━━━━━\u001b[0m\u001b[37m\u001b[0m \u001b[1m142s\u001b[0m 176ms/step - accuracy: 0.1797 - auc: 0.7531 - loss: 0.0099 - val_accuracy: 0.1893 - val_auc: 0.7728 - val_loss: 0.2182\n",
      "Epoch 8/20\n",
      "\u001b[1m633/633\u001b[0m \u001b[32m━━━━━━━━━━━━━━━━━━━━\u001b[0m\u001b[37m\u001b[0m \u001b[1m0s\u001b[0m 170ms/step - accuracy: 0.1752 - auc: 0.7570 - loss: 0.0097\n",
      "Epoch 8: val_auc did not improve from 0.77278\n",
      "\u001b[1m633/633\u001b[0m \u001b[32m━━━━━━━━━━━━━━━━━━━━\u001b[0m\u001b[37m\u001b[0m \u001b[1m144s\u001b[0m 179ms/step - accuracy: 0.1752 - auc: 0.7570 - loss: 0.0097 - val_accuracy: 0.1565 - val_auc: 0.7537 - val_loss: 0.2386\n",
      "Epoch 9/20\n",
      "\u001b[1m633/633\u001b[0m \u001b[32m━━━━━━━━━━━━━━━━━━━━\u001b[0m\u001b[37m\u001b[0m \u001b[1m0s\u001b[0m 171ms/step - accuracy: 0.1720 - auc: 0.7529 - loss: 0.0099\n",
      "Epoch 9: val_auc did not improve from 0.77278\n",
      "\u001b[1m633/633\u001b[0m \u001b[32m━━━━━━━━━━━━━━━━━━━━\u001b[0m\u001b[37m\u001b[0m \u001b[1m142s\u001b[0m 179ms/step - accuracy: 0.1720 - auc: 0.7529 - loss: 0.0099 - val_accuracy: 0.1529 - val_auc: 0.7562 - val_loss: 0.2308\n",
      "Epoch 10/20\n",
      "\u001b[1m633/633\u001b[0m \u001b[32m━━━━━━━━━━━━━━━━━━━━\u001b[0m\u001b[37m\u001b[0m \u001b[1m0s\u001b[0m 170ms/step - accuracy: 0.1607 - auc: 0.7576 - loss: 0.0098\n",
      "Epoch 10: val_auc did not improve from 0.77278\n",
      "\u001b[1m633/633\u001b[0m \u001b[32m━━━━━━━━━━━━━━━━━━━━\u001b[0m\u001b[37m\u001b[0m \u001b[1m141s\u001b[0m 178ms/step - accuracy: 0.1608 - auc: 0.7576 - loss: 0.0098 - val_accuracy: 0.1188 - val_auc: 0.7537 - val_loss: 0.2210\n",
      "Epoch 11/20\n",
      "\u001b[1m633/633\u001b[0m \u001b[32m━━━━━━━━━━━━━━━━━━━━\u001b[0m\u001b[37m\u001b[0m \u001b[1m0s\u001b[0m 168ms/step - accuracy: 0.1784 - auc: 0.7600 - loss: 0.0098\n",
      "Epoch 11: val_auc improved from 0.77278 to 0.77744, saving model to /content/drive/MyDrive/mnist_medical_images/custom_cnn1_chest_checkpoints/best_model.keras\n",
      "\u001b[1m633/633\u001b[0m \u001b[32m━━━━━━━━━━━━━━━━━━━━\u001b[0m\u001b[37m\u001b[0m \u001b[1m141s\u001b[0m 177ms/step - accuracy: 0.1784 - auc: 0.7600 - loss: 0.0098 - val_accuracy: 0.2309 - val_auc: 0.7774 - val_loss: 0.2249\n",
      "Epoch 12/20\n",
      "\u001b[1m633/633\u001b[0m \u001b[32m━━━━━━━━━━━━━━━━━━━━\u001b[0m\u001b[37m\u001b[0m \u001b[1m0s\u001b[0m 168ms/step - accuracy: 0.1677 - auc: 0.7629 - loss: 0.0097\n",
      "Epoch 12: val_auc did not improve from 0.77744\n",
      "\u001b[1m633/633\u001b[0m \u001b[32m━━━━━━━━━━━━━━━━━━━━\u001b[0m\u001b[37m\u001b[0m \u001b[1m109s\u001b[0m 173ms/step - accuracy: 0.1677 - auc: 0.7629 - loss: 0.0097 - val_accuracy: 0.2667 - val_auc: 0.7730 - val_loss: 0.2230\n",
      "Epoch 13/20\n",
      "\u001b[1m633/633\u001b[0m \u001b[32m━━━━━━━━━━━━━━━━━━━━\u001b[0m\u001b[37m\u001b[0m \u001b[1m0s\u001b[0m 171ms/step - accuracy: 0.1583 - auc: 0.7624 - loss: 0.0098\n",
      "Epoch 13: val_auc improved from 0.77744 to 0.78166, saving model to /content/drive/MyDrive/mnist_medical_images/custom_cnn1_chest_checkpoints/best_model.keras\n",
      "\u001b[1m633/633\u001b[0m \u001b[32m━━━━━━━━━━━━━━━━━━━━\u001b[0m\u001b[37m\u001b[0m \u001b[1m111s\u001b[0m 175ms/step - accuracy: 0.1583 - auc: 0.7624 - loss: 0.0098 - val_accuracy: 0.1866 - val_auc: 0.7817 - val_loss: 0.2219\n",
      "Epoch 14/20\n",
      "\u001b[1m633/633\u001b[0m \u001b[32m━━━━━━━━━━━━━━━━━━━━\u001b[0m\u001b[37m\u001b[0m \u001b[1m0s\u001b[0m 171ms/step - accuracy: 0.1743 - auc: 0.7652 - loss: 0.0095\n",
      "Epoch 14: val_auc did not improve from 0.78166\n",
      "\u001b[1m633/633\u001b[0m \u001b[32m━━━━━━━━━━━━━━━━━━━━\u001b[0m\u001b[37m\u001b[0m \u001b[1m142s\u001b[0m 176ms/step - accuracy: 0.1742 - auc: 0.7652 - loss: 0.0095 - val_accuracy: 0.1695 - val_auc: 0.7802 - val_loss: 0.2142\n",
      "Epoch 15/20\n",
      "\u001b[1m633/633\u001b[0m \u001b[32m━━━━━━━━━━━━━━━━━━━━\u001b[0m\u001b[37m\u001b[0m \u001b[1m0s\u001b[0m 168ms/step - accuracy: 0.1791 - auc: 0.7636 - loss: 0.0095\n",
      "Epoch 15: val_auc improved from 0.78166 to 0.78402, saving model to /content/drive/MyDrive/mnist_medical_images/custom_cnn1_chest_checkpoints/best_model.keras\n",
      "\u001b[1m633/633\u001b[0m \u001b[32m━━━━━━━━━━━━━━━━━━━━\u001b[0m\u001b[37m\u001b[0m \u001b[1m140s\u001b[0m 172ms/step - accuracy: 0.1791 - auc: 0.7636 - loss: 0.0095 - val_accuracy: 0.2997 - val_auc: 0.7840 - val_loss: 0.2271\n",
      "Epoch 16/20\n",
      "\u001b[1m633/633\u001b[0m \u001b[32m━━━━━━━━━━━━━━━━━━━━\u001b[0m\u001b[37m\u001b[0m \u001b[1m0s\u001b[0m 168ms/step - accuracy: 0.1682 - auc: 0.7661 - loss: 0.0098\n",
      "Epoch 16: val_auc did not improve from 0.78402\n",
      "\u001b[1m633/633\u001b[0m \u001b[32m━━━━━━━━━━━━━━━━━━━━\u001b[0m\u001b[37m\u001b[0m \u001b[1m145s\u001b[0m 176ms/step - accuracy: 0.1682 - auc: 0.7661 - loss: 0.0098 - val_accuracy: 0.2634 - val_auc: 0.7835 - val_loss: 0.2156\n",
      "Epoch 17/20\n",
      "\u001b[1m633/633\u001b[0m \u001b[32m━━━━━━━━━━━━━━━━━━━━\u001b[0m\u001b[37m\u001b[0m \u001b[1m0s\u001b[0m 168ms/step - accuracy: 0.1844 - auc: 0.7668 - loss: 0.0096\n",
      "Epoch 17: val_auc did not improve from 0.78402\n",
      "\u001b[1m633/633\u001b[0m \u001b[32m━━━━━━━━━━━━━━━━━━━━\u001b[0m\u001b[37m\u001b[0m \u001b[1m111s\u001b[0m 176ms/step - accuracy: 0.1844 - auc: 0.7668 - loss: 0.0096 - val_accuracy: 0.1608 - val_auc: 0.7815 - val_loss: 0.2193\n",
      "Epoch 18/20\n",
      "\u001b[1m633/633\u001b[0m \u001b[32m━━━━━━━━━━━━━━━━━━━━\u001b[0m\u001b[37m\u001b[0m \u001b[1m0s\u001b[0m 172ms/step - accuracy: 0.1694 - auc: 0.7644 - loss: 0.0098\n",
      "Epoch 18: val_auc improved from 0.78402 to 0.78574, saving model to /content/drive/MyDrive/mnist_medical_images/custom_cnn1_chest_checkpoints/best_model.keras\n",
      "\u001b[1m633/633\u001b[0m \u001b[32m━━━━━━━━━━━━━━━━━━━━\u001b[0m\u001b[37m\u001b[0m \u001b[1m145s\u001b[0m 180ms/step - accuracy: 0.1694 - auc: 0.7645 - loss: 0.0098 - val_accuracy: 0.1556 - val_auc: 0.7857 - val_loss: 0.2186\n",
      "Epoch 19/20\n",
      "\u001b[1m633/633\u001b[0m \u001b[32m━━━━━━━━━━━━━━━━━━━━\u001b[0m\u001b[37m\u001b[0m \u001b[1m0s\u001b[0m 171ms/step - accuracy: 0.1571 - auc: 0.7679 - loss: 0.0096\n",
      "Epoch 19: val_auc did not improve from 0.78574\n",
      "\u001b[1m633/633\u001b[0m \u001b[32m━━━━━━━━━━━━━━━━━━━━\u001b[0m\u001b[37m\u001b[0m \u001b[1m141s\u001b[0m 179ms/step - accuracy: 0.1571 - auc: 0.7679 - loss: 0.0096 - val_accuracy: 0.2121 - val_auc: 0.7688 - val_loss: 0.2238\n",
      "Epoch 20/20\n",
      "\u001b[1m633/633\u001b[0m \u001b[32m━━━━━━━━━━━━━━━━━━━━\u001b[0m\u001b[37m\u001b[0m \u001b[1m0s\u001b[0m 169ms/step - accuracy: 0.1790 - auc: 0.7697 - loss: 0.0095\n",
      "Epoch 20: val_auc did not improve from 0.78574\n",
      "\u001b[1m633/633\u001b[0m \u001b[32m━━━━━━━━━━━━━━━━━━━━\u001b[0m\u001b[37m\u001b[0m \u001b[1m139s\u001b[0m 173ms/step - accuracy: 0.1790 - auc: 0.7697 - loss: 0.0095 - val_accuracy: 0.1893 - val_auc: 0.7729 - val_loss: 0.2181\n",
      "Restoring model weights from the end of the best epoch: 18.\n"
     ]
    }
   ],
   "source": [
    "#  Retrain the best model using the best hyperparameters\n",
    "best_lr = results.x[0]\n",
    "best_bs = results.x[1]\n",
    "best_do = results.x[2]\n",
    "\n",
    "# Build the best model\n",
    "best_model = Sequential([\n",
    "    Conv2D(32, (3, 3), activation='relu', input_shape=(28, 28, 1)),\n",
    "    BatchNormalization(),\n",
    "    MaxPooling2D(pool_size=(2, 2)),\n",
    "    Dropout(best_do),\n",
    "\n",
    "    Conv2D(64, (3, 3), activation='relu'),\n",
    "    BatchNormalization(),\n",
    "    MaxPooling2D(pool_size=(2, 2)),\n",
    "    Dropout(best_do),\n",
    "\n",
    "    Flatten(),\n",
    "    Dense(128, activation='relu'),\n",
    "    Dropout(best_do),\n",
    "    Dense(14, activation='sigmoid')\n",
    "])\n",
    "\n",
    "# Compile the model\n",
    "best_model.compile(\n",
    "    loss='binary_crossentropy',\n",
    "    optimizer=Adam(learning_rate=best_lr),\n",
    "    metrics=[tf.keras.metrics.AUC(name='auc'), 'accuracy']\n",
    ")\n",
    "\n",
    "# Train the model\n",
    "history = best_model.fit(\n",
    "    x_train, y_train,\n",
    "    validation_data=(x_val, y_val),\n",
    "    batch_size=best_bs,\n",
    "    sample_weight=sample_weights,\n",
    "    epochs=20,\n",
    "    callbacks=callbacks,\n",
    "    verbose=1\n",
    ")\n"
   ]
  },
  {
   "cell_type": "markdown",
   "metadata": {
    "id": "o8Fx2Nm5DN1-"
   },
   "source": [
    "## Evaluation"
   ]
  },
  {
   "cell_type": "code",
   "execution_count": null,
   "metadata": {
    "colab": {
     "base_uri": "https://localhost:8080/"
    },
    "id": "LC7olOTfnb7D",
    "outputId": "db2f6b42-7af9-4842-c87b-57625d7ca79a"
   },
   "outputs": [
    {
     "name": "stdout",
     "output_type": "stream",
     "text": [
      "\u001b[1m702/702\u001b[0m \u001b[32m━━━━━━━━━━━━━━━━━━━━\u001b[0m\u001b[37m\u001b[0m \u001b[1m9s\u001b[0m 13ms/step - accuracy: 0.1502 - auc: 0.7829 - loss: 0.2217\n",
      " Test Loss: 0.2219, AUC: 0.7823, Accuracy: 0.1518\n"
     ]
    }
   ],
   "source": [
    "# Evaluate the final model on the test set\n",
    "results = best_model.evaluate(x_test, y_test)\n",
    "print(f\" Test Loss: {results[0]:.4f}, AUC: {results[1]:.4f}, Accuracy: {results[2]:.4f}\")\n"
   ]
  },
  {
   "cell_type": "code",
   "execution_count": null,
   "metadata": {
    "colab": {
     "base_uri": "https://localhost:8080/"
    },
    "id": "L2hC39gEng4l",
    "outputId": "7d89b0ab-4994-429b-d482-b1b0df21741c"
   },
   "outputs": [
    {
     "name": "stdout",
     "output_type": "stream",
     "text": [
      "\u001b[1m702/702\u001b[0m \u001b[32m━━━━━━━━━━━━━━━━━━━━\u001b[0m\u001b[37m\u001b[0m \u001b[1m12s\u001b[0m 17ms/step\n"
     ]
    }
   ],
   "source": [
    "y_pred_probs = best_model.predict(x_test) #Predict probabilities on test set. Returns softmax output for each class\n",
    "\n",
    "\n",
    "y_pred = np.argmax(y_pred_probs, axis=1)  # Converts softmax probabilities into predicted class labels (integers).\n",
    "y_true = y_test.flatten() # ensure that the test labels are in the correct 1D shape"
   ]
  },
  {
   "cell_type": "code",
   "execution_count": null,
   "metadata": {
    "colab": {
     "base_uri": "https://localhost:8080/"
    },
    "id": "S3xSxCIdnoU7",
    "outputId": "78b9d19d-b965-471b-b11d-fe511a5de182"
   },
   "outputs": [
    {
     "name": "stdout",
     "output_type": "stream",
     "text": [
      "Classification Report:\n",
      "\n",
      "                    precision    recall  f1-score   support\n",
      "\n",
      "       Atelectasis       0.25      0.20      0.22      2420\n",
      "      Cardiomegaly       0.38      0.04      0.07       582\n",
      "          Effusion       0.26      0.58      0.36      2754\n",
      "      Infiltration       0.25      0.53      0.34      3938\n",
      "              Mass       0.14      0.02      0.03      1133\n",
      "            Nodule       0.06      0.00      0.00      1335\n",
      "         Pneumonia       0.00      0.00      0.00       242\n",
      "      Pneumothorax       0.17      0.04      0.07      1089\n",
      "     Consolidation       0.09      0.01      0.01       957\n",
      "             Edema       0.10      0.30      0.15       413\n",
      "         Emphysema       0.00      0.00      0.00       509\n",
      "          Fibrosis       0.00      0.00      0.00       362\n",
      "Pleural Thickening       0.21      0.01      0.01       734\n",
      "            Hernia       0.04      0.14      0.06        42\n",
      "\n",
      "         micro avg       0.24      0.27      0.25     16510\n",
      "         macro avg       0.14      0.13      0.10     16510\n",
      "      weighted avg       0.20      0.27      0.19     16510\n",
      "       samples avg       0.11      0.12      0.10     16510\n",
      "\n"
     ]
    }
   ],
   "source": [
    "# Binarize predictions using threshold (e.g., 0.5)\n",
    "from sklearn.metrics import confusion_matrix, roc_auc_score, classification_report\n",
    "y_pred = (y_pred_probs >= 0.3).astype(int)\n",
    "\n",
    "#  Generate classification report\n",
    "print(\"Classification Report:\\n\")\n",
    "print(classification_report(y_test, y_pred, target_names=class_names, zero_division=0))"
   ]
  },
  {
   "cell_type": "code",
   "execution_count": null,
   "metadata": {
    "colab": {
     "base_uri": "https://localhost:8080/"
    },
    "id": "GY4oob2sny-H",
    "outputId": "d2f99ee0-a2ea-4024-9f65-84e4886d60f4"
   },
   "outputs": [
    {
     "name": "stdout",
     "output_type": "stream",
     "text": [
      "Micro AUC: 0.782438016646687\n",
      "Macro AUC: 0.6843720022689819\n"
     ]
    }
   ],
   "source": [
    "\n",
    "print(\"Micro AUC:\", roc_auc_score(y_test, y_pred_probs, average='micro'))\n",
    "print(\"Macro AUC:\", roc_auc_score(y_test, y_pred_probs, average='macro'))"
   ]
  },
  {
   "cell_type": "code",
   "execution_count": null,
   "metadata": {
    "id": "iP2Q4n_CDd9S"
   },
   "outputs": [],
   "source": []
  },
  {
   "cell_type": "markdown",
   "metadata": {
    "id": "z6nP04-hDep2"
   },
   "source": [
    "# **4. Deeper CNN  with weighted Classes**"
   ]
  },
  {
   "cell_type": "markdown",
   "metadata": {
    "id": "le6Thpx0FZOZ"
   },
   "source": [
    "# Define & Train Model"
   ]
  },
  {
   "cell_type": "code",
   "execution_count": 38,
   "metadata": {
    "id": "Z2GVmtg1EOZC"
   },
   "outputs": [],
   "source": [
    "\n",
    "model_dp = Sequential([\n",
    "    # Block 1\n",
    "    Conv2D(32, (3,3), activation='relu', padding='same', input_shape=(28,28,1)),\n",
    "    BatchNormalization(),\n",
    "    Conv2D(32, (3,3), activation='relu', padding='same'),\n",
    "    BatchNormalization(),\n",
    "    MaxPooling2D((2,2)),\n",
    "    Dropout(0.25),\n",
    "\n",
    "    # Block 2\n",
    "    Conv2D(64, (3,3), activation='relu', padding='same'),\n",
    "    BatchNormalization(),\n",
    "    Conv2D(64, (3,3), activation='relu', padding='same'),\n",
    "    BatchNormalization(),\n",
    "    MaxPooling2D((2,2)),\n",
    "    Dropout(0.3),\n",
    "\n",
    "    # Block 3\n",
    "    Conv2D(128, (3,3), activation='relu', padding='same'),\n",
    "    BatchNormalization(),\n",
    "    Conv2D(128, (3,3), activation='relu', padding='same'),\n",
    "    BatchNormalization(),\n",
    "    MaxPooling2D((2,2)),\n",
    "    Dropout(0.4),\n",
    "\n",
    "    # Final layers\n",
    "    GlobalAveragePooling2D(),\n",
    "    Dense(256, activation='relu'),\n",
    "    Dropout(0.5),\n",
    "    Dense(14, activation='sigmoid')  # 14 classes, multi-label\n",
    "])\n"
   ]
  },
  {
   "cell_type": "code",
   "execution_count": 39,
   "metadata": {
    "id": "U2lw6ChAE7nY"
   },
   "outputs": [],
   "source": [
    "model_dp.compile(\n",
    "    optimizer='adam',\n",
    "    loss='binary_crossentropy',\n",
    "    metrics=['accuracy', AUC(name='auc')]\n",
    ")\n"
   ]
  },
  {
   "cell_type": "code",
   "execution_count": 40,
   "metadata": {
    "colab": {
     "base_uri": "https://localhost:8080/"
    },
    "id": "MXsdjYbzE-3-",
    "outputId": "c9610759-5576-440c-c100-d91e9bb2382e"
   },
   "outputs": [
    {
     "name": "stdout",
     "output_type": "stream",
     "text": [
      "Epoch 1/20\n",
      "\u001b[1m1227/1227\u001b[0m \u001b[32m━━━━━━━━━━━━━━━━━━━━\u001b[0m\u001b[37m\u001b[0m \u001b[1m606s\u001b[0m 488ms/step - accuracy: 0.1655 - auc: 0.6766 - loss: 0.0111 - val_accuracy: 0.3922 - val_auc: 0.7688 - val_loss: 0.2153\n",
      "Epoch 2/20\n",
      "\u001b[1m1227/1227\u001b[0m \u001b[32m━━━━━━━━━━━━━━━━━━━━\u001b[0m\u001b[37m\u001b[0m \u001b[1m611s\u001b[0m 479ms/step - accuracy: 0.1975 - auc: 0.7260 - loss: 0.0104 - val_accuracy: 0.1719 - val_auc: 0.7528 - val_loss: 0.2174\n",
      "Epoch 3/20\n",
      "\u001b[1m1227/1227\u001b[0m \u001b[32m━━━━━━━━━━━━━━━━━━━━\u001b[0m\u001b[37m\u001b[0m \u001b[1m623s\u001b[0m 480ms/step - accuracy: 0.1757 - auc: 0.7375 - loss: 0.0100 - val_accuracy: 0.2535 - val_auc: 0.7788 - val_loss: 0.2202\n",
      "Epoch 4/20\n",
      "\u001b[1m1227/1227\u001b[0m \u001b[32m━━━━━━━━━━━━━━━━━━━━\u001b[0m\u001b[37m\u001b[0m \u001b[1m593s\u001b[0m 483ms/step - accuracy: 0.1699 - auc: 0.7412 - loss: 0.0100 - val_accuracy: 0.1712 - val_auc: 0.7671 - val_loss: 0.2285\n",
      "Epoch 5/20\n",
      "\u001b[1m1227/1227\u001b[0m \u001b[32m━━━━━━━━━━━━━━━━━━━━\u001b[0m\u001b[37m\u001b[0m \u001b[1m638s\u001b[0m 496ms/step - accuracy: 0.1800 - auc: 0.7478 - loss: 0.0100 - val_accuracy: 0.1761 - val_auc: 0.7781 - val_loss: 0.2184\n",
      "Epoch 6/20\n",
      "\u001b[1m1227/1227\u001b[0m \u001b[32m━━━━━━━━━━━━━━━━━━━━\u001b[0m\u001b[37m\u001b[0m \u001b[1m603s\u001b[0m 481ms/step - accuracy: 0.1779 - auc: 0.7550 - loss: 0.0099 - val_accuracy: 0.1229 - val_auc: 0.7137 - val_loss: 0.2109\n",
      "Epoch 7/20\n",
      "\u001b[1m1227/1227\u001b[0m \u001b[32m━━━━━━━━━━━━━━━━━━━━\u001b[0m\u001b[37m\u001b[0m \u001b[1m622s\u001b[0m 481ms/step - accuracy: 0.2031 - auc: 0.7574 - loss: 0.0099 - val_accuracy: 0.1045 - val_auc: 0.7603 - val_loss: 0.2095\n",
      "Epoch 8/20\n",
      "\u001b[1m1227/1227\u001b[0m \u001b[32m━━━━━━━━━━━━━━━━━━━━\u001b[0m\u001b[37m\u001b[0m \u001b[1m614s\u001b[0m 475ms/step - accuracy: 0.1988 - auc: 0.7643 - loss: 0.0099 - val_accuracy: 0.1774 - val_auc: 0.7822 - val_loss: 0.2217\n",
      "Epoch 9/20\n",
      "\u001b[1m1227/1227\u001b[0m \u001b[32m━━━━━━━━━━━━━━━━━━━━\u001b[0m\u001b[37m\u001b[0m \u001b[1m584s\u001b[0m 476ms/step - accuracy: 0.1796 - auc: 0.7693 - loss: 0.0096 - val_accuracy: 0.1462 - val_auc: 0.7738 - val_loss: 0.2234\n",
      "Epoch 10/20\n",
      "\u001b[1m1227/1227\u001b[0m \u001b[32m━━━━━━━━━━━━━━━━━━━━\u001b[0m\u001b[37m\u001b[0m \u001b[1m620s\u001b[0m 475ms/step - accuracy: 0.1929 - auc: 0.7733 - loss: 0.0096 - val_accuracy: 0.0775 - val_auc: 0.7333 - val_loss: 0.2142\n",
      "Epoch 11/20\n",
      "\u001b[1m1227/1227\u001b[0m \u001b[32m━━━━━━━━━━━━━━━━━━━━\u001b[0m\u001b[37m\u001b[0m \u001b[1m583s\u001b[0m 475ms/step - accuracy: 0.1783 - auc: 0.7755 - loss: 0.0095 - val_accuracy: 0.1202 - val_auc: 0.7506 - val_loss: 0.2347\n",
      "Epoch 12/20\n",
      "\u001b[1m1227/1227\u001b[0m \u001b[32m━━━━━━━━━━━━━━━━━━━━\u001b[0m\u001b[37m\u001b[0m \u001b[1m623s\u001b[0m 476ms/step - accuracy: 0.1890 - auc: 0.7769 - loss: 0.0095 - val_accuracy: 0.2887 - val_auc: 0.7966 - val_loss: 0.2253\n",
      "Epoch 13/20\n",
      "\u001b[1m1227/1227\u001b[0m \u001b[32m━━━━━━━━━━━━━━━━━━━━\u001b[0m\u001b[37m\u001b[0m \u001b[1m643s\u001b[0m 494ms/step - accuracy: 0.1824 - auc: 0.7857 - loss: 0.0094 - val_accuracy: 0.2524 - val_auc: 0.7754 - val_loss: 0.2137\n",
      "Epoch 14/20\n",
      "\u001b[1m1227/1227\u001b[0m \u001b[32m━━━━━━━━━━━━━━━━━━━━\u001b[0m\u001b[37m\u001b[0m \u001b[1m602s\u001b[0m 477ms/step - accuracy: 0.1913 - auc: 0.7833 - loss: 0.0093 - val_accuracy: 0.1170 - val_auc: 0.7657 - val_loss: 0.2196\n",
      "Epoch 15/20\n",
      "\u001b[1m1227/1227\u001b[0m \u001b[32m━━━━━━━━━━━━━━━━━━━━\u001b[0m\u001b[37m\u001b[0m \u001b[1m623s\u001b[0m 479ms/step - accuracy: 0.1869 - auc: 0.7847 - loss: 0.0093 - val_accuracy: 0.1901 - val_auc: 0.7965 - val_loss: 0.2142\n",
      "Epoch 16/20\n",
      "\u001b[1m1227/1227\u001b[0m \u001b[32m━━━━━━━━━━━━━━━━━━━━\u001b[0m\u001b[37m\u001b[0m \u001b[1m623s\u001b[0m 480ms/step - accuracy: 0.1902 - auc: 0.7873 - loss: 0.0092 - val_accuracy: 0.1811 - val_auc: 0.7965 - val_loss: 0.2144\n",
      "Epoch 17/20\n",
      "\u001b[1m1227/1227\u001b[0m \u001b[32m━━━━━━━━━━━━━━━━━━━━\u001b[0m\u001b[37m\u001b[0m \u001b[1m620s\u001b[0m 478ms/step - accuracy: 0.1984 - auc: 0.7914 - loss: 0.0090 - val_accuracy: 0.2080 - val_auc: 0.7853 - val_loss: 0.2261\n",
      "Epoch 17: early stopping\n",
      "Restoring model weights from the end of the best epoch: 12.\n"
     ]
    }
   ],
   "source": [
    "# Callbacks\n",
    "callbacks = [\n",
    "    EarlyStopping(\n",
    "        monitor='val_auc',\n",
    "        mode='max',\n",
    "        patience=5,\n",
    "        restore_best_weights=True,\n",
    "        verbose=1\n",
    "    )\n",
    "]\n",
    "\n",
    "#training\n",
    "history = model_dp.fit(\n",
    "    x_train, y_train,\n",
    "    validation_data=(x_val, y_val),\n",
    "    batch_size=64,\n",
    "    epochs=20,\n",
    "    sample_weight=sample_weights,\n",
    "    callbacks=callbacks ,\n",
    ")\n"
   ]
  },
  {
   "cell_type": "markdown",
   "metadata": {
    "id": "p_YUf5mjFdWK"
   },
   "source": [
    "# Evaluation"
   ]
  },
  {
   "cell_type": "code",
   "execution_count": 47,
   "metadata": {
    "colab": {
     "base_uri": "https://localhost:8080/"
    },
    "id": "oklc5ZIJFgTP",
    "outputId": "d770b859-0e56-47cb-e671-4f695199274b"
   },
   "outputs": [
    {
     "name": "stdout",
     "output_type": "stream",
     "text": [
      "\u001b[1m702/702\u001b[0m \u001b[32m━━━━━━━━━━━━━━━━━━━━\u001b[0m\u001b[37m\u001b[0m \u001b[1m44s\u001b[0m 63ms/step - accuracy: 0.2809 - auc: 0.7962 - loss: 0.2275\n",
      "Test Loss: 0.2278, Test Accuracy: 0.2843, Test AUC: 0.7948\n"
     ]
    }
   ],
   "source": [
    "# Evaluate the final model on the test set\n",
    "results =model_dp.evaluate(x_test, y_test)\n",
    "print(f\"Test Loss: {results[0]:.4f}, Test Accuracy: {results[1]:.4f}, Test AUC: {results[2]:.4f}\")\n"
   ]
  },
  {
   "cell_type": "code",
   "execution_count": 43,
   "metadata": {
    "colab": {
     "base_uri": "https://localhost:8080/"
    },
    "id": "30Ws51GiFlcK",
    "outputId": "737c5596-8822-472f-ff10-deccd3c7b6e1"
   },
   "outputs": [
    {
     "name": "stdout",
     "output_type": "stream",
     "text": [
      "\u001b[1m702/702\u001b[0m \u001b[32m━━━━━━━━━━━━━━━━━━━━\u001b[0m\u001b[37m\u001b[0m \u001b[1m43s\u001b[0m 60ms/step\n"
     ]
    }
   ],
   "source": [
    "y_pred_probs = model_dp.predict(x_test) #Predict probabilities on test set. Returns softmax output for each class\n",
    "\n",
    "\n",
    "y_pred = np.argmax(y_pred_probs, axis=1)  # Converts softmax probabilities into predicted class labels (integers).\n",
    "y_true = y_test.flatten() # ensure that the test labels are in the correct 1D shape"
   ]
  },
  {
   "cell_type": "code",
   "execution_count": 44,
   "metadata": {
    "colab": {
     "base_uri": "https://localhost:8080/"
    },
    "id": "UpJJQzDwF2vN",
    "outputId": "50984122-4ae4-493b-d8bb-8546e0835fb9"
   },
   "outputs": [
    {
     "name": "stdout",
     "output_type": "stream",
     "text": [
      "Classification Report:\n",
      "\n",
      "                    precision    recall  f1-score   support\n",
      "\n",
      "       Atelectasis       0.20      0.57      0.29      2420\n",
      "      Cardiomegaly       0.17      0.46      0.24       582\n",
      "          Effusion       0.27      0.71      0.40      2754\n",
      "      Infiltration       0.28      0.48      0.36      3938\n",
      "              Mass       0.15      0.03      0.05      1133\n",
      "            Nodule       0.00      0.00      0.00      1335\n",
      "         Pneumonia       0.00      0.00      0.00       242\n",
      "      Pneumothorax       0.13      0.17      0.15      1089\n",
      "     Consolidation       0.14      0.26      0.18       957\n",
      "             Edema       0.17      0.22      0.19       413\n",
      "         Emphysema       0.07      0.06      0.06       509\n",
      "          Fibrosis       0.00      0.00      0.00       362\n",
      "Pleural Thickening       0.13      0.01      0.02       734\n",
      "            Hernia       0.01      0.05      0.02        42\n",
      "\n",
      "         micro avg       0.23      0.37      0.28     16510\n",
      "         macro avg       0.12      0.22      0.14     16510\n",
      "      weighted avg       0.19      0.37      0.23     16510\n",
      "       samples avg       0.12      0.17      0.13     16510\n",
      "\n"
     ]
    }
   ],
   "source": [
    "# Binarize predictions using threshold (e.g., 0.5)\n",
    "from sklearn.metrics import confusion_matrix, roc_auc_score, classification_report\n",
    "y_pred = (y_pred_probs >= 0.3).astype(int)\n",
    "\n",
    "#  Generate classification report\n",
    "print(\"Classification Report:\\n\")\n",
    "print(classification_report(y_test, y_pred, target_names=class_names, zero_division=0))"
   ]
  },
  {
   "cell_type": "code",
   "execution_count": 45,
   "metadata": {
    "colab": {
     "base_uri": "https://localhost:8080/"
    },
    "id": "aCtJeF7TF3gJ",
    "outputId": "0d77068a-42f0-4068-80d8-dacbaf898f40"
   },
   "outputs": [
    {
     "name": "stdout",
     "output_type": "stream",
     "text": [
      "Micro AUC: 0.7948788013684498\n",
      "Macro AUC: 0.7023958594271805\n"
     ]
    }
   ],
   "source": [
    "print(\"Micro AUC:\", roc_auc_score(y_test, y_pred_probs, average='micro'))\n",
    "print(\"Macro AUC:\", roc_auc_score(y_test, y_pred_probs, average='macro'))"
   ]
  }
 ],
 "metadata": {
  "colab": {
   "provenance": []
  },
  "kernelspec": {
   "display_name": "Python 3 (ipykernel)",
   "language": "python",
   "name": "python3"
  },
  "language_info": {
   "codemirror_mode": {
    "name": "ipython",
    "version": 3
   },
   "file_extension": ".py",
   "mimetype": "text/x-python",
   "name": "python",
   "nbconvert_exporter": "python",
   "pygments_lexer": "ipython3",
   "version": "3.12.4"
  }
 },
 "nbformat": 4,
 "nbformat_minor": 4
}
